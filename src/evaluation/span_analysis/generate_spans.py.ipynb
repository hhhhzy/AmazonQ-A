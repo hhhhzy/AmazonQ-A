{
 "cells": [
  {
   "cell_type": "code",
   "execution_count": 49,
   "metadata": {},
   "outputs": [],
   "source": [
    "import pandas as pd\n",
    "import sys\n",
    "import json\n",
    "import numpy as np"
   ]
  },
  {
   "cell_type": "code",
   "execution_count": 50,
   "metadata": {},
   "outputs": [],
   "source": [
    "bleu_test_file = '../../../data/squad_bleu/test-qar_squad_all_bleu.jsonl'\n",
    "rouge_test_file = '../../../data/squad_rouge/test-qar_squad_all_rouge.jsonl'"
   ]
  },
  {
   "cell_type": "code",
   "execution_count": 51,
   "metadata": {},
   "outputs": [],
   "source": [
    "span_questions = {}\n",
    "rouge_questions = {}\n",
    "\n",
    "def get_questions(filename):\n",
    "    questions = {}\n",
    "    with open(filename, 'r', encoding='utf-8') as fp_inp:\n",
    "        for line in fp_inp:\n",
    "            try:\n",
    "                qar = json.loads(line)\n",
    "            except json.JSONDecodeError:\n",
    "                raise Exception('\\\"%s\\\" is not a valid json' % line)\n",
    "            context = qar['context']\n",
    "            qar = qar['qas'][0]\n",
    "            spans = [a['text'] for a in qar['answers'] if a['text'] != '']\n",
    "            question = qar['question']\n",
    "            answers = qar['human_answers']\n",
    "            questions[hash((context, question))] = {\n",
    "                'question': question,\n",
    "                'context': context,\n",
    "                'answers': answers,\n",
    "                'spans': spans\n",
    "            }\n",
    "        return questions\n",
    "\n",
    "span_questions = get_questions(bleu_test_file)\n",
    "rouge_questions = get_questions(rouge_test_file)"
   ]
  },
  {
   "cell_type": "code",
   "execution_count": 52,
   "metadata": {},
   "outputs": [
    {
     "data": {
      "text/plain": [
       "(57032, 57032)"
      ]
     },
     "execution_count": 52,
     "metadata": {},
     "output_type": "execute_result"
    }
   ],
   "source": [
    "len(span_questions), len(rouge_questions)"
   ]
  },
  {
   "cell_type": "code",
   "execution_count": 53,
   "metadata": {},
   "outputs": [],
   "source": [
    "np.random.seed = 1"
   ]
  },
  {
   "cell_type": "code",
   "execution_count": 54,
   "metadata": {},
   "outputs": [],
   "source": [
    "ids = np.random.permutation(list(span_questions.keys()))[:400]"
   ]
  },
  {
   "cell_type": "code",
   "execution_count": 57,
   "metadata": {},
   "outputs": [],
   "source": [
    "entries = []\n",
    "for key in ids:\n",
    "    bleu_entry = span_questions[key]\n",
    "    rouge_entry = rouge_questions[key]\n",
    "    for x in ['question', 'context', 'answers']:\n",
    "        assert bleu_entry[x] == rouge_entry[x]\n",
    "    entries.append({\n",
    "        'question': bleu_entry['question'],\n",
    "        'context': bleu_entry['context'],\n",
    "        'answers': bleu_entry['answers'],\n",
    "        'bleu_spans': bleu_entry['spans'],\n",
    "        'rouge_spans': rouge_entry['spans'],\n",
    "    })"
   ]
  },
  {
   "cell_type": "code",
   "execution_count": 63,
   "metadata": {},
   "outputs": [],
   "source": [
    "data = pd.DataFrame(entries)[['question', 'context', 'bleu_spans', 'rouge_spans', 'answers']]\n",
    "def enum_value(l):\n",
    "    return '\\n'.join(['%d) %s' % (i + 1, val) for i, val in enumerate(l)])\n",
    "\n",
    "for key in ['answers', 'bleu_spans', 'rouge_spans']:\n",
    "    data[key] = data[key].apply(lambda x: enum_value(x))"
   ]
  },
  {
   "cell_type": "code",
   "execution_count": 64,
   "metadata": {},
   "outputs": [
    {
     "data": {
      "text/html": [
       "<div>\n",
       "<style scoped>\n",
       "    .dataframe tbody tr th:only-of-type {\n",
       "        vertical-align: middle;\n",
       "    }\n",
       "\n",
       "    .dataframe tbody tr th {\n",
       "        vertical-align: top;\n",
       "    }\n",
       "\n",
       "    .dataframe thead th {\n",
       "        text-align: right;\n",
       "    }\n",
       "</style>\n",
       "<table border=\"1\" class=\"dataframe\">\n",
       "  <thead>\n",
       "    <tr style=\"text-align: right;\">\n",
       "      <th></th>\n",
       "      <th>question</th>\n",
       "      <th>context</th>\n",
       "      <th>bleu_spans</th>\n",
       "      <th>rouge_spans</th>\n",
       "      <th>answers</th>\n",
       "    </tr>\n",
       "  </thead>\n",
       "  <tbody>\n",
       "    <tr>\n",
       "      <th>0</th>\n",
       "      <td>Is the iPhone 4 Front Screen Display White (GS...</td>\n",
       "      <td>Upon my first order for this screen, everythin...</td>\n",
       "      <td>1) practical advice for replacing the screen g...</td>\n",
       "      <td>1) and compare it with the\\n2) and compare it ...</td>\n",
       "      <td>1) Yes it is and it fits exactly, with all con...</td>\n",
       "    </tr>\n",
       "    <tr>\n",
       "      <th>1</th>\n",
       "      <td>what are the dimensions of this item?</td>\n",
       "      <td>Reasonable shipping time, and just as ordered....</td>\n",
       "      <td>1) break on the door\\n2) on the door (and\\n3) ...</td>\n",
       "      <td>1) for the most part the\\n2) of RV Designer's ...</td>\n",
       "      <td>1) normal size for RV doors\\n2) Its about 4\" t...</td>\n",
       "    </tr>\n",
       "    <tr>\n",
       "      <th>2</th>\n",
       "      <td>Can you use this device if your do not have a ...</td>\n",
       "      <td>Took less than a minute to setup. I have an ol...</td>\n",
       "      <td>1) to connect to my TV but I had to\\n2) connec...</td>\n",
       "      <td>1) and use those I have a\\n2) a techie, I woul...</td>\n",
       "      <td>1) I hooked a HP Pavilion laptop up to my HDTV...</td>\n",
       "    </tr>\n",
       "    <tr>\n",
       "      <th>3</th>\n",
       "      <td>What are the sizes of these jars?</td>\n",
       "      <td>I'm happy with my purchase, but just wanted to...</td>\n",
       "      <td>1) in my bathroom and the rest of the jars\\n2)...</td>\n",
       "      <td>1) use in genetic lab to hold\\n2) to use in ge...</td>\n",
       "      <td>1) Approximately 7 inches tall and 4-5 inches ...</td>\n",
       "    </tr>\n",
       "    <tr>\n",
       "      <th>4</th>\n",
       "      <td>Where do the birds hummer come from? I have ne...</td>\n",
       "      <td>I feed 50-60 hummers all summer long with 6 of...</td>\n",
       "      <td>1) for all the birds that are attracted to the...</td>\n",
       "      <td>1) for all the birds that are attracted to the...</td>\n",
       "      <td>1) It took about a week for the birds to find ...</td>\n",
       "    </tr>\n",
       "  </tbody>\n",
       "</table>\n",
       "</div>"
      ],
      "text/plain": [
       "                                            question  \\\n",
       "0  Is the iPhone 4 Front Screen Display White (GS...   \n",
       "1              what are the dimensions of this item?   \n",
       "2  Can you use this device if your do not have a ...   \n",
       "3                  What are the sizes of these jars?   \n",
       "4  Where do the birds hummer come from? I have ne...   \n",
       "\n",
       "                                             context  \\\n",
       "0  Upon my first order for this screen, everythin...   \n",
       "1  Reasonable shipping time, and just as ordered....   \n",
       "2  Took less than a minute to setup. I have an ol...   \n",
       "3  I'm happy with my purchase, but just wanted to...   \n",
       "4  I feed 50-60 hummers all summer long with 6 of...   \n",
       "\n",
       "                                          bleu_spans  \\\n",
       "0  1) practical advice for replacing the screen g...   \n",
       "1  1) break on the door\\n2) on the door (and\\n3) ...   \n",
       "2  1) to connect to my TV but I had to\\n2) connec...   \n",
       "3  1) in my bathroom and the rest of the jars\\n2)...   \n",
       "4  1) for all the birds that are attracted to the...   \n",
       "\n",
       "                                         rouge_spans  \\\n",
       "0  1) and compare it with the\\n2) and compare it ...   \n",
       "1  1) for the most part the\\n2) of RV Designer's ...   \n",
       "2  1) and use those I have a\\n2) a techie, I woul...   \n",
       "3  1) use in genetic lab to hold\\n2) to use in ge...   \n",
       "4  1) for all the birds that are attracted to the...   \n",
       "\n",
       "                                             answers  \n",
       "0  1) Yes it is and it fits exactly, with all con...  \n",
       "1  1) normal size for RV doors\\n2) Its about 4\" t...  \n",
       "2  1) I hooked a HP Pavilion laptop up to my HDTV...  \n",
       "3  1) Approximately 7 inches tall and 4-5 inches ...  \n",
       "4  1) It took about a week for the birds to find ...  "
      ]
     },
     "execution_count": 64,
     "metadata": {},
     "output_type": "execute_result"
    }
   ],
   "source": [
    "data.head()"
   ]
  },
  {
   "cell_type": "code",
   "execution_count": 66,
   "metadata": {},
   "outputs": [],
   "source": [
    "data.to_csv('/home/ubuntu/capstone/src/evaluation/span_analysis/span_annotations.csv', index=False)"
   ]
  }
 ],
 "metadata": {
  "kernelspec": {
   "display_name": "Python 3",
   "language": "python",
   "name": "python3"
  },
  "language_info": {
   "codemirror_mode": {
    "name": "ipython",
    "version": 3
   },
   "file_extension": ".py",
   "mimetype": "text/x-python",
   "name": "python",
   "nbconvert_exporter": "python",
   "pygments_lexer": "ipython3",
   "version": "3.6.5"
  }
 },
 "nbformat": 4,
 "nbformat_minor": 2
}
