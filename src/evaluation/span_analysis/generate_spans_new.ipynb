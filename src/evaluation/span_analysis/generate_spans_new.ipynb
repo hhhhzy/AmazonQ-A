{
 "cells": [
  {
   "cell_type": "code",
   "execution_count": 1,
   "metadata": {},
   "outputs": [],
   "source": [
    "import pandas as pd\n",
    "import sys\n",
    "import json\n",
    "import numpy as np"
   ]
  },
  {
   "cell_type": "code",
   "execution_count": 39,
   "metadata": {},
   "outputs": [],
   "source": [
    "test_file = '../../../data/squad/test-qar_squad_all.jsonl'"
   ]
  },
  {
   "cell_type": "code",
   "execution_count": 40,
   "metadata": {},
   "outputs": [],
   "source": [
    "span_keys = [\n",
    "    'answers_sentence_ir',\n",
    "    'answers_sentence_bleu2',\n",
    "    'answers_sentence_bleu4',\n",
    "    'answers_snippet_spans_bleu2',\n",
    "    'answers_snippet_spans_bleu4',\n",
    "    'answers_snippet_spans_rouge',\n",
    "]\n",
    "\n",
    "def get_questions(filename):\n",
    "    questions = {}\n",
    "    with open(filename, 'r', encoding='utf-8') as fp_inp:\n",
    "        for line in fp_inp:\n",
    "            try:\n",
    "                qar = json.loads(line)\n",
    "            except json.JSONDecodeError:\n",
    "                raise Exception('\\\"%s\\\" is not a valid json' % line)\n",
    "            question = {}\n",
    "            question['context'] = qar['context']\n",
    "            qar = qar['qas'][0]\n",
    "            for key in span_keys:\n",
    "                question[key] = [a['text'] for a in qar[key] if a['text'] != '']\n",
    "            question['question'] = qar['question']\n",
    "            question['answers'] = qar['human_answers']\n",
    "            question['qid'] = qar['id']\n",
    "            questions[qar['id']] = question\n",
    "        return questions\n",
    "\n",
    "data = get_questions(test_file)"
   ]
  },
  {
   "cell_type": "code",
   "execution_count": 41,
   "metadata": {},
   "outputs": [
    {
     "data": {
      "text/plain": [
       "59527"
      ]
     },
     "execution_count": 41,
     "metadata": {},
     "output_type": "execute_result"
    }
   ],
   "source": [
    "len(data.keys())"
   ]
  },
  {
   "cell_type": "code",
   "execution_count": 42,
   "metadata": {},
   "outputs": [],
   "source": [
    "np.random.seed = 1"
   ]
  },
  {
   "cell_type": "code",
   "execution_count": 43,
   "metadata": {},
   "outputs": [],
   "source": [
    "ids = np.random.permutation(list(data.keys()))[:400]"
   ]
  },
  {
   "cell_type": "code",
   "execution_count": 44,
   "metadata": {},
   "outputs": [],
   "source": [
    "entries = []\n",
    "for key in ids:\n",
    "    entries.append(data[key])"
   ]
  },
  {
   "cell_type": "code",
   "execution_count": 45,
   "metadata": {},
   "outputs": [],
   "source": [
    "df = pd.DataFrame(entries)[['qid', 'question', 'context'] + span_keys + ['answers']]\n",
    "def enum_value(l):\n",
    "    return '\\n'.join(['%d) %s' % (i + 1, val) for i, val in enumerate(l)])\n",
    "\n",
    "for key in (span_keys + ['answers']):\n",
    "    df[key] = df[key].apply(lambda x: enum_value(x))"
   ]
  },
  {
   "cell_type": "code",
   "execution_count": 46,
   "metadata": {},
   "outputs": [
    {
     "data": {
      "text/html": [
       "<div>\n",
       "<style scoped>\n",
       "    .dataframe tbody tr th:only-of-type {\n",
       "        vertical-align: middle;\n",
       "    }\n",
       "\n",
       "    .dataframe tbody tr th {\n",
       "        vertical-align: top;\n",
       "    }\n",
       "\n",
       "    .dataframe thead th {\n",
       "        text-align: right;\n",
       "    }\n",
       "</style>\n",
       "<table border=\"1\" class=\"dataframe\">\n",
       "  <thead>\n",
       "    <tr style=\"text-align: right;\">\n",
       "      <th></th>\n",
       "      <th>qid</th>\n",
       "      <th>question</th>\n",
       "      <th>context</th>\n",
       "      <th>answers_sentence_ir</th>\n",
       "      <th>answers_sentence_bleu2</th>\n",
       "      <th>answers_sentence_bleu4</th>\n",
       "      <th>answers_snippet_spans_bleu2</th>\n",
       "      <th>answers_snippet_spans_bleu4</th>\n",
       "      <th>answers_snippet_spans_rouge</th>\n",
       "      <th>answers</th>\n",
       "    </tr>\n",
       "  </thead>\n",
       "  <tbody>\n",
       "    <tr>\n",
       "      <th>0</th>\n",
       "      <td>65093</td>\n",
       "      <td>Does it works for HTC sensation battery?</td>\n",
       "      <td>I bought this for my HTC Sensation battery and...</td>\n",
       "      <td>1) It works with my HTC Sensation Z710e batter...</td>\n",
       "      <td>1) The battery overhangs a bit, but works grea...</td>\n",
       "      <td>1) The battery overhangs a bit, but works grea...</td>\n",
       "      <td>1) it still charged fine. The battery overhang...</td>\n",
       "      <td>1) it still charged fine. The battery overhang...</td>\n",
       "      <td>1) quickly and it works like a charm. Charges ...</td>\n",
       "      <td>1) Yes, the one I ordered works great. It's qu...</td>\n",
       "    </tr>\n",
       "    <tr>\n",
       "      <th>1</th>\n",
       "      <td>70733</td>\n",
       "      <td>Can you use this to make almond flour, or othe...</td>\n",
       "      <td>My wife is Gluten intolerant and likes to expe...</td>\n",
       "      <td>1) After one use I sent this back and replaced...</td>\n",
       "      <td>1) Such is life.\\n2) This grinder is fantastic...</td>\n",
       "      <td>1) Such is life.\\n2) This grinder is fantastic...</td>\n",
       "      <td>1) My wife is Gluten intolerant and likes to e...</td>\n",
       "      <td>1) My wife is Gluten intolerant and likes to e...</td>\n",
       "      <td>1) My wife is Gluten intolerant and likes to e...</td>\n",
       "      <td>1) No\\n2) Yes\\n3) No\\n4) Yes</td>\n",
       "    </tr>\n",
       "    <tr>\n",
       "      <th>2</th>\n",
       "      <td>40475</td>\n",
       "      <td>With 2 $700 S &amp; W guns plus 6 mags, just what ...</td>\n",
       "      <td>since i own a S&amp;W M&amp;P Shield i figured what be...</td>\n",
       "      <td>1) Well made, holds 2 guns and 6 clips.\\n2) 2 ...</td>\n",
       "      <td>1) perfect little bag to take to the range!\\n2...</td>\n",
       "      <td>1) I preffer to put both of my single cases an...</td>\n",
       "      <td>1) the bare minimum of packaging to the range ...</td>\n",
       "      <td>1) single case cause I only use 2 of my guns\\n...</td>\n",
       "      <td>1) a comparison to the almost identicle in loo...</td>\n",
       "      <td>1) I suppose it depends on what you mean by da...</td>\n",
       "    </tr>\n",
       "    <tr>\n",
       "      <th>3</th>\n",
       "      <td>33830</td>\n",
       "      <td>What type of plastic are these straws made of?</td>\n",
       "      <td>Be aware, these straws are not the clear acryl...</td>\n",
       "      <td>1) These are made of a softer plastic, but are...</td>\n",
       "      <td>1) Be aware, these straws are not the clear ac...</td>\n",
       "      <td>1) Be aware, these straws are not the clear ac...</td>\n",
       "      <td>1) acrylic type you sometimes see. These are m...</td>\n",
       "      <td>1) acrylic type you sometimes see. These are m...</td>\n",
       "      <td>1) Be aware, these straws are not the clear ac...</td>\n",
       "      <td>1) It doesn't say on the package. There isn't ...</td>\n",
       "    </tr>\n",
       "    <tr>\n",
       "      <th>4</th>\n",
       "      <td>39226</td>\n",
       "      <td>Does it come with an echelon? That is the opti...</td>\n",
       "      <td>Super heavy faucet with a beautiful finish. Co...</td>\n",
       "      <td>1) Comes with a plate that you can use if you ...</td>\n",
       "      <td>1) Neither stopper will hold water in the bott...</td>\n",
       "      <td>1) The quality of the Kohler brand can't be be...</td>\n",
       "      <td>1) Neither stopper will hold water in the bott...</td>\n",
       "      <td>1) Neither stopper will hold water in the bott...</td>\n",
       "      <td>1) contemporary style. This one is perfect, I ...</td>\n",
       "      <td>1) It does come with what I call a plate.  Thi...</td>\n",
       "    </tr>\n",
       "  </tbody>\n",
       "</table>\n",
       "</div>"
      ],
      "text/plain": [
       "     qid                                           question  \\\n",
       "0  65093           Does it works for HTC sensation battery?   \n",
       "1  70733  Can you use this to make almond flour, or othe...   \n",
       "2  40475  With 2 $700 S & W guns plus 6 mags, just what ...   \n",
       "3  33830     What type of plastic are these straws made of?   \n",
       "4  39226  Does it come with an echelon? That is the opti...   \n",
       "\n",
       "                                             context  \\\n",
       "0  I bought this for my HTC Sensation battery and...   \n",
       "1  My wife is Gluten intolerant and likes to expe...   \n",
       "2  since i own a S&W M&P Shield i figured what be...   \n",
       "3  Be aware, these straws are not the clear acryl...   \n",
       "4  Super heavy faucet with a beautiful finish. Co...   \n",
       "\n",
       "                                 answers_sentence_ir  \\\n",
       "0  1) It works with my HTC Sensation Z710e batter...   \n",
       "1  1) After one use I sent this back and replaced...   \n",
       "2  1) Well made, holds 2 guns and 6 clips.\\n2) 2 ...   \n",
       "3  1) These are made of a softer plastic, but are...   \n",
       "4  1) Comes with a plate that you can use if you ...   \n",
       "\n",
       "                              answers_sentence_bleu2  \\\n",
       "0  1) The battery overhangs a bit, but works grea...   \n",
       "1  1) Such is life.\\n2) This grinder is fantastic...   \n",
       "2  1) perfect little bag to take to the range!\\n2...   \n",
       "3  1) Be aware, these straws are not the clear ac...   \n",
       "4  1) Neither stopper will hold water in the bott...   \n",
       "\n",
       "                              answers_sentence_bleu4  \\\n",
       "0  1) The battery overhangs a bit, but works grea...   \n",
       "1  1) Such is life.\\n2) This grinder is fantastic...   \n",
       "2  1) I preffer to put both of my single cases an...   \n",
       "3  1) Be aware, these straws are not the clear ac...   \n",
       "4  1) The quality of the Kohler brand can't be be...   \n",
       "\n",
       "                         answers_snippet_spans_bleu2  \\\n",
       "0  1) it still charged fine. The battery overhang...   \n",
       "1  1) My wife is Gluten intolerant and likes to e...   \n",
       "2  1) the bare minimum of packaging to the range ...   \n",
       "3  1) acrylic type you sometimes see. These are m...   \n",
       "4  1) Neither stopper will hold water in the bott...   \n",
       "\n",
       "                         answers_snippet_spans_bleu4  \\\n",
       "0  1) it still charged fine. The battery overhang...   \n",
       "1  1) My wife is Gluten intolerant and likes to e...   \n",
       "2  1) single case cause I only use 2 of my guns\\n...   \n",
       "3  1) acrylic type you sometimes see. These are m...   \n",
       "4  1) Neither stopper will hold water in the bott...   \n",
       "\n",
       "                         answers_snippet_spans_rouge  \\\n",
       "0  1) quickly and it works like a charm. Charges ...   \n",
       "1  1) My wife is Gluten intolerant and likes to e...   \n",
       "2  1) a comparison to the almost identicle in loo...   \n",
       "3  1) Be aware, these straws are not the clear ac...   \n",
       "4  1) contemporary style. This one is perfect, I ...   \n",
       "\n",
       "                                             answers  \n",
       "0  1) Yes, the one I ordered works great. It's qu...  \n",
       "1                       1) No\\n2) Yes\\n3) No\\n4) Yes  \n",
       "2  1) I suppose it depends on what you mean by da...  \n",
       "3  1) It doesn't say on the package. There isn't ...  \n",
       "4  1) It does come with what I call a plate.  Thi...  "
      ]
     },
     "execution_count": 46,
     "metadata": {},
     "output_type": "execute_result"
    }
   ],
   "source": [
    "df.head()"
   ]
  },
  {
   "cell_type": "code",
   "execution_count": 48,
   "metadata": {},
   "outputs": [],
   "source": [
    "df.to_csv('/home/ubuntu/capstone/src/evaluation/span_analysis/span_annotations_new.csv', index=False)"
   ]
  },
  {
   "cell_type": "code",
   "execution_count": null,
   "metadata": {},
   "outputs": [],
   "source": []
  }
 ],
 "metadata": {
  "kernelspec": {
   "display_name": "Python 3",
   "language": "python",
   "name": "python3"
  },
  "language_info": {
   "codemirror_mode": {
    "name": "ipython",
    "version": 3
   },
   "file_extension": ".py",
   "mimetype": "text/x-python",
   "name": "python",
   "nbconvert_exporter": "python",
   "pygments_lexer": "ipython3",
   "version": "3.6.5"
  }
 },
 "nbformat": 4,
 "nbformat_minor": 2
}
