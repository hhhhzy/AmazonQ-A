{
 "cells": [
  {
   "cell_type": "code",
   "execution_count": 52,
   "metadata": {},
   "outputs": [],
   "source": [
    "import numpy as np\n",
    "import pandas as pd\n",
    "import string\n",
    "import pickle\n",
    "\n",
    "import sklearn\n",
    "from sklearn.metrics import classification_report\n",
    "from sklearn.feature_extraction.text import TfidfVectorizer\n",
    "from nltk import sent_tokenize\n",
    "\n",
    "import random\n",
    "\n",
    "random_state = 0\n",
    "np.random.seed(random_state)\n",
    "random.seed(random_state)"
   ]
  },
  {
   "cell_type": "code",
   "execution_count": 53,
   "metadata": {},
   "outputs": [
    {
     "data": {
      "text/plain": [
       "'0.20.1'"
      ]
     },
     "execution_count": 53,
     "metadata": {},
     "output_type": "execute_result"
    }
   ],
   "source": [
    "sklearn.__version__"
   ]
  },
  {
   "cell_type": "markdown",
   "metadata": {},
   "source": [
    "## Data Loading and Splits"
   ]
  },
  {
   "cell_type": "code",
   "execution_count": 54,
   "metadata": {
    "scrolled": true
   },
   "outputs": [
    {
     "name": "stdout",
     "output_type": "stream",
     "text": [
      "N    1754\n",
      "Y    1094\n",
      "S    1074\n",
      "Name: is_answerable_orig, dtype: int64\n",
      "Total 3922\n"
     ]
    }
   ],
   "source": [
    "filename = '../../data/final_annotated_data.csv'\n",
    "df = pd.read_csv(filename)\n",
    "\n",
    "print(df.is_answerable_orig.value_counts())\n",
    "print('Total', len(df))"
   ]
  },
  {
   "cell_type": "code",
   "execution_count": 55,
   "metadata": {},
   "outputs": [],
   "source": [
    "# Column Renames\n",
    "cols = ['question', 'review0', 'review1', 'review2', 'review3', 'review4', 'is_answerable', 'is_answerable_human', 'expert']\n",
    "df = df.rename(columns={'is_answerable_orig': 'is_answerable', 'is_answerable_new': 'is_answerable_human'})[cols]\n",
    "\n",
    "def filter_data(df):\n",
    "    df = df[df.is_answerable.notnull()]\n",
    "    df = df[df.review0.notnull()]\n",
    "    return df\n",
    "\n",
    "L = len(df)\n",
    "df = filter_data(df)\n",
    "assert L == len(df)\n",
    "\n",
    "\n",
    "label_map = {'N': 0, 'S': 1, 'Y': 1}\n",
    "\n",
    "def label_func(df):\n",
    "    df['label'] = df.is_answerable.apply(lambda x: label_map[x])\n",
    "\n",
    "label_func(df)"
   ]
  },
  {
   "cell_type": "code",
   "execution_count": 56,
   "metadata": {},
   "outputs": [],
   "source": [
    "def print_stats(df, name='df'):\n",
    "    print(name.upper())\n",
    "    print('Length = %d' % len(df))\n",
    "    print('IsAnswerable Counts')\n",
    "    print(df.is_answerable.value_counts() / len(df))\n",
    "    print('IsAnswerableHuman Counts')\n",
    "    print(df.is_answerable_human.value_counts()  / len(df))\n",
    "    print()"
   ]
  },
  {
   "cell_type": "code",
   "execution_count": 57,
   "metadata": {
    "scrolled": false
   },
   "outputs": [
    {
     "name": "stdout",
     "output_type": "stream",
     "text": [
      "TRAIN\n",
      "Length = 2967\n",
      "IsAnswerable Counts\n",
      "N    0.425008\n",
      "S    0.289181\n",
      "Y    0.285811\n",
      "Name: is_answerable, dtype: float64\n",
      "IsAnswerableHuman Counts\n",
      "Series([], Name: is_answerable_human, dtype: float64)\n",
      "\n",
      "VAL\n",
      "Length = 330\n",
      "IsAnswerable Counts\n",
      "N    0.409091\n",
      "Y    0.309091\n",
      "S    0.281818\n",
      "Name: is_answerable, dtype: float64\n",
      "IsAnswerableHuman Counts\n",
      "Series([], Name: is_answerable_human, dtype: float64)\n",
      "\n",
      "TEST\n",
      "Length = 135\n",
      "IsAnswerable Counts\n",
      "N    0.481481\n",
      "Y    0.362963\n",
      "S    0.155556\n",
      "Name: is_answerable, dtype: float64\n",
      "IsAnswerableHuman Counts\n",
      "N    0.422222\n",
      "Y    0.392593\n",
      "S    0.185185\n",
      "Name: is_answerable_human, dtype: float64\n",
      "\n"
     ]
    }
   ],
   "source": [
    "\"\"\"\n",
    "test_df = df[df.expert]\n",
    "train_df_part1 = df[~df.expert]\n",
    "\n",
    "test_df_part1 = test_df[test_df.is_answerable_human.notnull()]\n",
    "expert_rest_df = test_df[test_df.is_answerable_human.isnull()]\n",
    "\n",
    "val_df, test_df_part2, train_df_part2 = np.split(expert_rest_df.sample(frac=1), [200, 270])\n",
    "\n",
    "train_df = pd.concat([train_df_part1, train_df_part2]).sample(frac=1)\n",
    "test_df = pd.concat([test_df_part1, test_df_part2]).sample(frac=1)\n",
    "\"\"\"\n",
    "\n",
    "non_expert_df = df[~df.expert]\n",
    "expert_df = df[df.expert]\n",
    "test_df = expert_df[expert_df.is_answerable_human.notnull()]\n",
    "\n",
    "train_df, val_df = np.split(non_expert_df.sample(frac=1, random_state=random_state), [int(0.9*len(non_expert_df))])\n",
    "\n",
    "print_stats(train_df, 'train')\n",
    "print_stats(val_df, 'val')\n",
    "print_stats(test_df, 'test')\n"
   ]
  },
  {
   "cell_type": "code",
   "execution_count": 58,
   "metadata": {
    "scrolled": false
   },
   "outputs": [
    {
     "name": "stderr",
     "output_type": "stream",
     "text": [
      "/Library/Frameworks/Python.framework/Versions/3.6/lib/python3.6/site-packages/ipykernel_launcher.py:11: SettingWithCopyWarning: \n",
      "A value is trying to be set on a copy of a slice from a DataFrame.\n",
      "Try using .loc[row_indexer,col_indexer] = value instead\n",
      "\n",
      "See the caveats in the documentation: http://pandas.pydata.org/pandas-docs/stable/indexing.html#indexing-view-versus-copy\n",
      "  # This is added back by InteractiveShellApp.init_path()\n"
     ]
    }
   ],
   "source": [
    "def get_reviews(row):\n",
    "    all_reviews = ''\n",
    "    for key in ['review0', 'review1', 'review2', 'review3', 'review4']:\n",
    "        if not isinstance(row[key], float):\n",
    "            all_reviews += row[key].strip(' ').strip('-')\n",
    "            all_reviews += ' '\n",
    "    return all_reviews.strip()\n",
    "\n",
    "\n",
    "def add_reviews(df):\n",
    "    df['reviews'] = df.apply(lambda x: get_reviews(x), axis = 1)\n",
    "    return df\n",
    "\n",
    "\n",
    "train_df, test_df, val_df = list(map(add_reviews, [train_df, test_df, val_df]))"
   ]
  },
  {
   "cell_type": "markdown",
   "metadata": {},
   "source": [
    "## TF IDF Vectorizer"
   ]
  },
  {
   "cell_type": "code",
   "execution_count": 9,
   "metadata": {},
   "outputs": [
    {
     "data": {
      "text/plain": [
       "\"\\ndf = pd.read_csv('../../data/train-qar_sample_100000.csv')\\ndf = add_reviews(df)\\nprint(len(df))\\n\\ntfidf_vectorizer = TfidfVectorizer(stop_words='english')\\ntfidf_vectorizer.fit(list(df.question.values) + list(df.reviews.values))\\n\\nwith open('../../data/tfidf_vectorizer.pkl', 'wb') as fp:\\n    pickle.dump(tfidf_vectorizer, fp)\\n\""
      ]
     },
     "execution_count": 9,
     "metadata": {},
     "output_type": "execute_result"
    }
   ],
   "source": [
    "\"\"\"\n",
    "df = pd.read_csv('../../data/train-qar_sample_100000.csv')\n",
    "df = add_reviews(df)\n",
    "print(len(df))\n",
    "\n",
    "tfidf_vectorizer = TfidfVectorizer(stop_words='english')\n",
    "tfidf_vectorizer.fit(list(df.question.values) + list(df.reviews.values))\n",
    "\n",
    "with open('../../data/tfidf_vectorizer.pkl', 'wb') as fp:\n",
    "    pickle.dump(tfidf_vectorizer, fp)\n",
    "\"\"\""
   ]
  },
  {
   "cell_type": "code",
   "execution_count": 59,
   "metadata": {},
   "outputs": [],
   "source": [
    "with open('../../data/tfidf_vectorizer.pkl', 'rb') as fp:\n",
    "    tfidf_vectorizer = pickle.load(fp)"
   ]
  },
  {
   "cell_type": "code",
   "execution_count": 60,
   "metadata": {},
   "outputs": [
    {
     "data": {
      "text/plain": [
       "158752"
      ]
     },
     "execution_count": 60,
     "metadata": {},
     "output_type": "execute_result"
    }
   ],
   "source": [
    "len(tfidf_vectorizer.vocabulary_)"
   ]
  },
  {
   "cell_type": "markdown",
   "metadata": {},
   "source": [
    "## w2v Vectorizer"
   ]
  },
  {
   "cell_type": "code",
   "execution_count": 61,
   "metadata": {},
   "outputs": [],
   "source": [
    "class MeanEmbeddingVectorizer(object):\n",
    "    def __init__(self, word2vec):\n",
    "        self.word2vec = word2vec\n",
    "        # if a text is empty we should return a vector of zeros\n",
    "        # with the same dimensionality as all the other vectors\n",
    "        self.dim = 300\n",
    "\n",
    "    def fit(self, X):\n",
    "        return self\n",
    "\n",
    "    def transform(self, X):\n",
    "        return np.array([\n",
    "            np.mean([self.word2vec[w] for w in words if w in self.word2vec]\n",
    "                    or [np.zeros(self.dim)], axis=0)\n",
    "            for words in X\n",
    "        ])"
   ]
  },
  {
   "cell_type": "code",
   "execution_count": 62,
   "metadata": {},
   "outputs": [],
   "source": [
    "with open('../../data/w2v_vectorizer.pkl', 'rb') as fp:\n",
    "    w2v_vectorizer = pickle.load(fp)"
   ]
  },
  {
   "cell_type": "code",
   "execution_count": 14,
   "metadata": {},
   "outputs": [
    {
     "data": {
      "text/plain": [
       "'\\nimport numpy as np\\n\\nwith open(\"../../data/glove.6B.300d.txt\", \"rb\") as lines:\\n    w2v = {str(line.split()[0].decode(\\'UTF-8\\')): np.array(list(map(float, line.split()[1:])))\\n           for line in lines}\\n\\nw2v_vectorizer = MeanEmbeddingVectorizer(w2v)\\nwith open(\\'../../data/w2v_vectorizer.pkl\\', \\'wb\\') as fp:\\n    pickle.dump(w2v_vectorizer, fp)\\n'"
      ]
     },
     "execution_count": 14,
     "metadata": {},
     "output_type": "execute_result"
    }
   ],
   "source": [
    "\"\"\"\n",
    "import numpy as np\n",
    "\n",
    "with open(\"../../data/glove.6B.300d.txt\", \"rb\") as lines:\n",
    "    w2v = {str(line.split()[0].decode('UTF-8')): np.array(list(map(float, line.split()[1:])))\n",
    "           for line in lines}\n",
    "\n",
    "w2v_vectorizer = MeanEmbeddingVectorizer(w2v)\n",
    "with open('../../data/w2v_vectorizer.pkl', 'wb') as fp:\n",
    "    pickle.dump(w2v_vectorizer, fp)\n",
    "\"\"\""
   ]
  },
  {
   "cell_type": "markdown",
   "metadata": {},
   "source": [
    "## Features"
   ]
  },
  {
   "cell_type": "code",
   "execution_count": 63,
   "metadata": {},
   "outputs": [],
   "source": [
    "train_df_raw, test_df_raw, val_df_raw = list(map(lambda x: x.copy(), [train_df, test_df, val_df]))"
   ]
  },
  {
   "cell_type": "code",
   "execution_count": 64,
   "metadata": {},
   "outputs": [],
   "source": [
    "def tokenize(text):\n",
    "    punctuations = string.punctuation.replace(\"\\'\", '')\n",
    "\n",
    "    for ch in punctuations:\n",
    "        text = text.replace(ch, \" \" + ch + \" \")\n",
    "\n",
    "    tokens = text.split()\n",
    "    for i, token in enumerate(tokens):\n",
    "        if not token.isupper():\n",
    "            tokens[i] = token.lower()\n",
    "    return tokens"
   ]
  },
  {
   "cell_type": "code",
   "execution_count": 65,
   "metadata": {},
   "outputs": [
    {
     "data": {
      "text/plain": [
       "'\\nx = vectorizer.transform([\\'It is a total idiot\\'])\\ny = vectorizer.transform([\\'It is not a total idiocy\\'])\\n\\nprint(type(x), \\'|\\n\\', x.shape, \\'|\\n\\', x, \\'|\\n\\', len(x.toarray()[0]))\\nprint(\"-\"*50)\\nprint(type(y), \\'|\\n\\', y.shape, \\'|\\n\\', y, \\'|\\n\\', len(y.toarray()[0]))\\nprint(\"-\"*50)\\nprint(x.toarray().dot(y.toarray().transpose())[0][0])\\n'"
      ]
     },
     "execution_count": 65,
     "metadata": {},
     "output_type": "execute_result"
    }
   ],
   "source": [
    "\"\"\"\n",
    "x = vectorizer.transform(['It is a total idiot'])\n",
    "y = vectorizer.transform(['It is not a total idiocy'])\n",
    "\n",
    "print(type(x), '|\\n', x.shape, '|\\n', x, '|\\n', len(x.toarray()[0]))\n",
    "print(\"-\"*50)\n",
    "print(type(y), '|\\n', y.shape, '|\\n', y, '|\\n', len(y.toarray()[0]))\n",
    "print(\"-\"*50)\n",
    "print(x.toarray().dot(y.toarray().transpose())[0][0])\n",
    "\"\"\""
   ]
  },
  {
   "cell_type": "code",
   "execution_count": 66,
   "metadata": {},
   "outputs": [],
   "source": [
    "def n_intersection(q, r):\n",
    "    return len(set(q).intersection(set(r)))\n",
    "\n",
    "def w2v_sim(q, r):\n",
    "    # dot product of q and r as w2v vectors\n",
    "    q_vec = w2v_vectorizer.transform([q])\n",
    "    r_vec = w2v_vectorizer.transform([r])\n",
    "    return q_vec.dot(r_vec.transpose())[0][0]\n",
    "\n",
    "def tf_idf_sim(q, r):\n",
    "    # dot product of q and r as tfidf vectors\n",
    "    q_vec = tfidf_vectorizer.transform([q])\n",
    "    r_vec = tfidf_vectorizer.transform([r])\n",
    "    return q_vec.dot(r_vec.transpose()).toarray()[0][0]\n",
    "\n",
    "def tf_idf_sim_sentence(q, rs):\n",
    "    # max of dot products of q and each sentence in r as tfidf vectors\n",
    "    q_vec = tfidf_vectorizer.transform([q])\n",
    "    if len(rs) == 0:\n",
    "        return 0\n",
    "    return max([q_vec.dot(tfidf_vectorizer.transform([r]).transpose()).toarray()[0][0] for r in rs])\n",
    "\n",
    "def w2v_sim_sentence(q, rs):\n",
    "    # max of dot products of q and each sentence in r as tfidf vectors\n",
    "    q_vec = w2v_vectorizer.transform([q])\n",
    "    if len(rs) == 0:\n",
    "        return 0\n",
    "    return max([q_vec.dot(w2v_vectorizer.transform([r]).transpose())[0][0] for r in rs])\n",
    "\n",
    "def tf_idf_sim_sentence_mean(q, rs):\n",
    "    # max of dot products of q and each sentence in r as tfidf vectors\n",
    "    q_vec = tfidf_vectorizer.transform([q])\n",
    "    if len(rs) == 0:\n",
    "        return 0\n",
    "    return np.mean([q_vec.dot(tfidf_vectorizer.transform([r]).transpose()).toarray()[0][0] for r in rs])\n",
    "\n",
    "def w2v_sim_sentence_mean(q, rs):\n",
    "    # max of dot products of q and each sentence in r as tfidf vectors\n",
    "    q_vec = w2v_vectorizer.transform([q])\n",
    "    if len(rs) == 0:\n",
    "        return 0\n",
    "    return np.mean([q_vec.dot(w2v_vectorizer.transform([r]).transpose())[0][0] for r in rs])\n",
    "\n",
    "def add_features(df):\n",
    "    df['q_tokens']       = df.question.apply(lambda x: tokenize(x))\n",
    "    df['r_tokens']       = df.reviews.apply(lambda x: tokenize(x))\n",
    "    df['r_sents']        = df.reviews.apply(lambda x: sent_tokenize(x))\n",
    "    df['n_q']            = df.q_tokens.apply(lambda x: len(x))\n",
    "    df['n_r']            = df.r_tokens.apply(lambda x: len(x))\n",
    "    df['n_intersection'] = df.apply(lambda x: len(set(x.q_tokens).intersection(set(x.r_tokens))), axis=1)\n",
    "    df['intr_frac']      = df.n_intersection / df.n_q\n",
    "    df['tfidf']          = df.apply(lambda x: tf_idf_sim(x.question, x.reviews), axis=1)\n",
    "    df['w2v']            = df.apply(lambda x: w2v_sim(x.question, x.reviews), axis=1)\n",
    "    df['w2v_sent']       = df.apply(lambda x: w2v_sim_sentence(x.question, x.r_sents), axis=1)\n",
    "    df['tfidf_sent']     = df.apply(lambda x: tf_idf_sim_sentence(x.question, x.r_sents), axis=1)\n",
    "    df['w2v_sent_mean']  = df.apply(lambda x: w2v_sim_sentence_mean(x.question, x.r_sents), axis=1)\n",
    "    df['tfidf_sent_mean']= df.apply(lambda x: tf_idf_sim_sentence_mean(x.question, x.r_sents), axis=1)\n",
    "    return df\n"
   ]
  },
  {
   "cell_type": "code",
   "execution_count": 67,
   "metadata": {},
   "outputs": [],
   "source": [
    "train_df, test_df, val_df = list(map(add_features, [train_df_raw, test_df_raw, val_df_raw]))"
   ]
  },
  {
   "cell_type": "code",
   "execution_count": 68,
   "metadata": {},
   "outputs": [],
   "source": [
    "for typ, df in [('train', train_df), ('test', test_df), ('val', val_df)]:\n",
    "    pickle.dump(df, open('../../data/' + typ + '_df_features.pkl', 'wb'))\n",
    "\n",
    "train_df_raw, test_df_raw, val_df_raw = None, None, None"
   ]
  },
  {
   "cell_type": "markdown",
   "metadata": {},
   "source": [
    "## Feature Cols"
   ]
  },
  {
   "cell_type": "code",
   "execution_count": 69,
   "metadata": {},
   "outputs": [],
   "source": [
    "X_cols = ['n_q', 'n_r', 'n_intersection', 'intr_frac']\n",
    "Y_cols = 'label'"
   ]
  },
  {
   "cell_type": "markdown",
   "metadata": {},
   "source": [
    "## Analysis"
   ]
  },
  {
   "cell_type": "code",
   "execution_count": 70,
   "metadata": {},
   "outputs": [],
   "source": [
    "#train_df = pickle.load(open('../../data/' + 'train' + '_df_features.pkl', 'rb'))\n",
    "#test_df = pickle.load(open('../../data/' + 'test' + '_df_features.pkl', 'rb'))\n",
    "#val_df = pickle.load(open('../../data/' + 'val' + '_df_features.pkl', 'rb'))"
   ]
  },
  {
   "cell_type": "code",
   "execution_count": 71,
   "metadata": {},
   "outputs": [],
   "source": [
    "df = train_df\n",
    "\n",
    "q = df.question.iloc[1]\n",
    "r = df.reviews.iloc[1]\n",
    "q_tokens = df.q_tokens.iloc[1]\n",
    "r_tokens = df.r_tokens.iloc[1]\n",
    "\n",
    "# q, r, set(q_tokens).intersection(set(r_tokens))"
   ]
  },
  {
   "cell_type": "code",
   "execution_count": 72,
   "metadata": {},
   "outputs": [
    {
     "data": {
      "text/html": [
       "<div>\n",
       "<style scoped>\n",
       "    .dataframe tbody tr th:only-of-type {\n",
       "        vertical-align: middle;\n",
       "    }\n",
       "\n",
       "    .dataframe tbody tr th {\n",
       "        vertical-align: top;\n",
       "    }\n",
       "\n",
       "    .dataframe thead th {\n",
       "        text-align: right;\n",
       "    }\n",
       "</style>\n",
       "<table border=\"1\" class=\"dataframe\">\n",
       "  <thead>\n",
       "    <tr style=\"text-align: right;\">\n",
       "      <th></th>\n",
       "      <th>n_q</th>\n",
       "      <th>n_r</th>\n",
       "      <th>n_intersection</th>\n",
       "      <th>intr_frac</th>\n",
       "    </tr>\n",
       "    <tr>\n",
       "      <th>label</th>\n",
       "      <th></th>\n",
       "      <th></th>\n",
       "      <th></th>\n",
       "      <th></th>\n",
       "    </tr>\n",
       "  </thead>\n",
       "  <tbody>\n",
       "    <tr>\n",
       "      <th>0</th>\n",
       "      <td>15.646312</td>\n",
       "      <td>329.911975</td>\n",
       "      <td>7.099921</td>\n",
       "      <td>0.469958</td>\n",
       "    </tr>\n",
       "    <tr>\n",
       "      <th>1</th>\n",
       "      <td>17.426729</td>\n",
       "      <td>379.018171</td>\n",
       "      <td>9.582649</td>\n",
       "      <td>0.583118</td>\n",
       "    </tr>\n",
       "  </tbody>\n",
       "</table>\n",
       "</div>"
      ],
      "text/plain": [
       "             n_q         n_r  n_intersection  intr_frac\n",
       "label                                                  \n",
       "0      15.646312  329.911975        7.099921   0.469958\n",
       "1      17.426729  379.018171        9.582649   0.583118"
      ]
     },
     "execution_count": 72,
     "metadata": {},
     "output_type": "execute_result"
    }
   ],
   "source": [
    "df[[Y_cols] + X_cols].groupby(Y_cols).mean()"
   ]
  },
  {
   "cell_type": "markdown",
   "metadata": {},
   "source": [
    "## Training"
   ]
  },
  {
   "cell_type": "code",
   "execution_count": 73,
   "metadata": {
    "scrolled": true
   },
   "outputs": [
    {
     "data": {
      "text/html": [
       "<div>\n",
       "<style scoped>\n",
       "    .dataframe tbody tr th:only-of-type {\n",
       "        vertical-align: middle;\n",
       "    }\n",
       "\n",
       "    .dataframe tbody tr th {\n",
       "        vertical-align: top;\n",
       "    }\n",
       "\n",
       "    .dataframe thead th {\n",
       "        text-align: right;\n",
       "    }\n",
       "</style>\n",
       "<table border=\"1\" class=\"dataframe\">\n",
       "  <thead>\n",
       "    <tr style=\"text-align: right;\">\n",
       "      <th></th>\n",
       "      <th>question</th>\n",
       "      <th>review0</th>\n",
       "      <th>review1</th>\n",
       "      <th>review2</th>\n",
       "      <th>review3</th>\n",
       "      <th>review4</th>\n",
       "      <th>is_answerable</th>\n",
       "      <th>is_answerable_human</th>\n",
       "      <th>expert</th>\n",
       "      <th>label</th>\n",
       "      <th>...</th>\n",
       "      <th>n_q</th>\n",
       "      <th>n_r</th>\n",
       "      <th>n_intersection</th>\n",
       "      <th>intr_frac</th>\n",
       "      <th>tfidf</th>\n",
       "      <th>w2v</th>\n",
       "      <th>w2v_sent</th>\n",
       "      <th>tfidf_sent</th>\n",
       "      <th>w2v_sent_mean</th>\n",
       "      <th>tfidf_sent_mean</th>\n",
       "    </tr>\n",
       "  </thead>\n",
       "  <tbody>\n",
       "    <tr>\n",
       "      <th>2465</th>\n",
       "      <td>Does it have a strong smell, I don't want my d...</td>\n",
       "      <td>i live in front of deep wooded area, and get s...</td>\n",
       "      <td>I live in a basement so I'm pretty used to see...</td>\n",
       "      <td>Wonderful! I suggest you have a non-spider fea...</td>\n",
       "      <td>I was like the majority of you reading these r...</td>\n",
       "      <td>I put these traps by the wall near entry point...</td>\n",
       "      <td>Y</td>\n",
       "      <td>NaN</td>\n",
       "      <td>False</td>\n",
       "      <td>1</td>\n",
       "      <td>...</td>\n",
       "      <td>15</td>\n",
       "      <td>458</td>\n",
       "      <td>10</td>\n",
       "      <td>0.666667</td>\n",
       "      <td>0.102567</td>\n",
       "      <td>17.747450</td>\n",
       "      <td>18.787045</td>\n",
       "      <td>0.208506</td>\n",
       "      <td>17.778122</td>\n",
       "      <td>0.032126</td>\n",
       "    </tr>\n",
       "    <tr>\n",
       "      <th>33</th>\n",
       "      <td>Does this camera work with windows 8?</td>\n",
       "      <td>You can rotate the picture on the camera, or u...</td>\n",
       "      <td>But, I think I was using the old rechargeables...</td>\n",
       "      <td>~ The battery and memory chamber door broke on...</td>\n",
       "      <td>Dramatically.You can make high quality videos ...</td>\n",
       "      <td>I am really disappointed in this camera. I wan...</td>\n",
       "      <td>N</td>\n",
       "      <td>NaN</td>\n",
       "      <td>False</td>\n",
       "      <td>0</td>\n",
       "      <td>...</td>\n",
       "      <td>8</td>\n",
       "      <td>414</td>\n",
       "      <td>4</td>\n",
       "      <td>0.500000</td>\n",
       "      <td>0.323437</td>\n",
       "      <td>17.109193</td>\n",
       "      <td>17.384769</td>\n",
       "      <td>0.379328</td>\n",
       "      <td>16.934596</td>\n",
       "      <td>0.147939</td>\n",
       "    </tr>\n",
       "    <tr>\n",
       "      <th>712</th>\n",
       "      <td>Can we use this on GE gas cooktops?</td>\n",
       "      <td>We have a Wolf gas range with shiny black drip...</td>\n",
       "      <td>I use this stuff for everything glass and Porc...</td>\n",
       "      <td>OK. The new black glass gas cook top looks coo...</td>\n",
       "      <td>lint free). After six months of using this cle...</td>\n",
       "      <td>This is the second bottle of Cook Top Clean th...</td>\n",
       "      <td>S</td>\n",
       "      <td>NaN</td>\n",
       "      <td>False</td>\n",
       "      <td>1</td>\n",
       "      <td>...</td>\n",
       "      <td>9</td>\n",
       "      <td>427</td>\n",
       "      <td>6</td>\n",
       "      <td>0.666667</td>\n",
       "      <td>0.121141</td>\n",
       "      <td>17.896930</td>\n",
       "      <td>18.530061</td>\n",
       "      <td>0.181021</td>\n",
       "      <td>17.471592</td>\n",
       "      <td>0.027329</td>\n",
       "    </tr>\n",
       "    <tr>\n",
       "      <th>918</th>\n",
       "      <td>How do I wash this ghillie suit?</td>\n",
       "      <td>My son wanted to be a sniper for Halloween, an...</td>\n",
       "      <td>If you are looking for a ghillie suit honestly...</td>\n",
       "      <td>Bought this for my 11 year old airsoft warrior...</td>\n",
       "      <td>I got my ghillie suit in a couple days ago, an...</td>\n",
       "      <td>I was very pleased with the the ghillie suit I...</td>\n",
       "      <td>S</td>\n",
       "      <td>NaN</td>\n",
       "      <td>False</td>\n",
       "      <td>1</td>\n",
       "      <td>...</td>\n",
       "      <td>8</td>\n",
       "      <td>418</td>\n",
       "      <td>5</td>\n",
       "      <td>0.625000</td>\n",
       "      <td>0.667150</td>\n",
       "      <td>17.373814</td>\n",
       "      <td>18.501022</td>\n",
       "      <td>0.845919</td>\n",
       "      <td>17.326420</td>\n",
       "      <td>0.181710</td>\n",
       "    </tr>\n",
       "    <tr>\n",
       "      <th>2358</th>\n",
       "      <td>Does anyone know if it paint on inside ceramic...</td>\n",
       "      <td>This crock is thick and sturdy, and well able ...</td>\n",
       "      <td>I was going to order this from Amazon but noti...</td>\n",
       "      <td>I purchased this at the same time I picked up ...</td>\n",
       "      <td>I weighted the plate with a JARDEN HOME BRANDS...</td>\n",
       "      <td>well made, covered all area's with glaze like ...</td>\n",
       "      <td>N</td>\n",
       "      <td>NaN</td>\n",
       "      <td>False</td>\n",
       "      <td>0</td>\n",
       "      <td>...</td>\n",
       "      <td>24</td>\n",
       "      <td>401</td>\n",
       "      <td>9</td>\n",
       "      <td>0.375000</td>\n",
       "      <td>0.071633</td>\n",
       "      <td>17.935806</td>\n",
       "      <td>18.471287</td>\n",
       "      <td>0.182411</td>\n",
       "      <td>17.884161</td>\n",
       "      <td>0.029817</td>\n",
       "    </tr>\n",
       "  </tbody>\n",
       "</table>\n",
       "<p>5 rows × 24 columns</p>\n",
       "</div>"
      ],
      "text/plain": [
       "                                               question  \\\n",
       "2465  Does it have a strong smell, I don't want my d...   \n",
       "33                Does this camera work with windows 8?   \n",
       "712                 Can we use this on GE gas cooktops?   \n",
       "918                    How do I wash this ghillie suit?   \n",
       "2358  Does anyone know if it paint on inside ceramic...   \n",
       "\n",
       "                                                review0  \\\n",
       "2465  i live in front of deep wooded area, and get s...   \n",
       "33    You can rotate the picture on the camera, or u...   \n",
       "712   We have a Wolf gas range with shiny black drip...   \n",
       "918   My son wanted to be a sniper for Halloween, an...   \n",
       "2358  This crock is thick and sturdy, and well able ...   \n",
       "\n",
       "                                                review1  \\\n",
       "2465  I live in a basement so I'm pretty used to see...   \n",
       "33    But, I think I was using the old rechargeables...   \n",
       "712   I use this stuff for everything glass and Porc...   \n",
       "918   If you are looking for a ghillie suit honestly...   \n",
       "2358  I was going to order this from Amazon but noti...   \n",
       "\n",
       "                                                review2  \\\n",
       "2465  Wonderful! I suggest you have a non-spider fea...   \n",
       "33    ~ The battery and memory chamber door broke on...   \n",
       "712   OK. The new black glass gas cook top looks coo...   \n",
       "918   Bought this for my 11 year old airsoft warrior...   \n",
       "2358  I purchased this at the same time I picked up ...   \n",
       "\n",
       "                                                review3  \\\n",
       "2465  I was like the majority of you reading these r...   \n",
       "33    Dramatically.You can make high quality videos ...   \n",
       "712   lint free). After six months of using this cle...   \n",
       "918   I got my ghillie suit in a couple days ago, an...   \n",
       "2358  I weighted the plate with a JARDEN HOME BRANDS...   \n",
       "\n",
       "                                                review4 is_answerable  \\\n",
       "2465  I put these traps by the wall near entry point...             Y   \n",
       "33    I am really disappointed in this camera. I wan...             N   \n",
       "712   This is the second bottle of Cook Top Clean th...             S   \n",
       "918   I was very pleased with the the ghillie suit I...             S   \n",
       "2358  well made, covered all area's with glaze like ...             N   \n",
       "\n",
       "     is_answerable_human  expert  label       ...        n_q  n_r  \\\n",
       "2465                 NaN   False      1       ...         15  458   \n",
       "33                   NaN   False      0       ...          8  414   \n",
       "712                  NaN   False      1       ...          9  427   \n",
       "918                  NaN   False      1       ...          8  418   \n",
       "2358                 NaN   False      0       ...         24  401   \n",
       "\n",
       "     n_intersection intr_frac     tfidf        w2v   w2v_sent  tfidf_sent  \\\n",
       "2465             10  0.666667  0.102567  17.747450  18.787045    0.208506   \n",
       "33                4  0.500000  0.323437  17.109193  17.384769    0.379328   \n",
       "712               6  0.666667  0.121141  17.896930  18.530061    0.181021   \n",
       "918               5  0.625000  0.667150  17.373814  18.501022    0.845919   \n",
       "2358              9  0.375000  0.071633  17.935806  18.471287    0.182411   \n",
       "\n",
       "      w2v_sent_mean  tfidf_sent_mean  \n",
       "2465      17.778122         0.032126  \n",
       "33        16.934596         0.147939  \n",
       "712       17.471592         0.027329  \n",
       "918       17.326420         0.181710  \n",
       "2358      17.884161         0.029817  \n",
       "\n",
       "[5 rows x 24 columns]"
      ]
     },
     "execution_count": 73,
     "metadata": {},
     "output_type": "execute_result"
    }
   ],
   "source": [
    "train_df.head()"
   ]
  },
  {
   "cell_type": "code",
   "execution_count": 74,
   "metadata": {},
   "outputs": [],
   "source": [
    "extra_features = ['w2v', 'tfidf']\n",
    "X_cols_all = X_cols + ['w2v_sent', 'w2v_sent_mean', 'tfidf_sent', 'tfidf_sent_mean']# + extra_features"
   ]
  },
  {
   "cell_type": "code",
   "execution_count": 131,
   "metadata": {
    "scrolled": true
   },
   "outputs": [
    {
     "name": "stdout",
     "output_type": "stream",
     "text": [
      "4\n",
      "LinearSVC(C=1.0, class_weight=None, dual=True, fit_intercept=True,\n",
      "     intercept_scaling=1, loss='squared_hinge', max_iter=1000,\n",
      "     multi_class='ovr', penalty='l2', random_state=None, tol=0.0001,\n",
      "     verbose=0)\n",
      "SVC(C=1.0, cache_size=200, class_weight=None, coef0=0.0,\n",
      "  decision_function_shape='ovr', degree=3, gamma='auto_deprecated',\n",
      "  kernel='linear', max_iter=-1, probability=False, random_state=None,\n",
      "  shrinking=True, tol=0.001, verbose=False)\n"
     ]
    },
    {
     "name": "stderr",
     "output_type": "stream",
     "text": [
      "/Library/Frameworks/Python.framework/Versions/3.6/lib/python3.6/site-packages/sklearn/svm/base.py:922: ConvergenceWarning: Liblinear failed to converge, increase the number of iterations.\n",
      "  \"the number of iterations.\", ConvergenceWarning)\n"
     ]
    },
    {
     "name": "stdout",
     "output_type": "stream",
     "text": [
      "LinearSVC(C=1.0, class_weight=None, dual=True, fit_intercept=True,\n",
      "     intercept_scaling=1, loss='squared_hinge', max_iter=1000,\n",
      "     multi_class='ovr', penalty='l2', random_state=None, tol=0.0001,\n",
      "     verbose=0)\n",
      "SVC(C=1.0, cache_size=200, class_weight=None, coef0=0.0,\n",
      "  decision_function_shape='ovr', degree=3, gamma=0.7, kernel='rbf',\n",
      "  max_iter=-1, probability=False, random_state=None, shrinking=True,\n",
      "  tol=0.001, verbose=False)\n"
     ]
    },
    {
     "name": "stderr",
     "output_type": "stream",
     "text": [
      "/Library/Frameworks/Python.framework/Versions/3.6/lib/python3.6/site-packages/sklearn/svm/base.py:922: ConvergenceWarning: Liblinear failed to converge, increase the number of iterations.\n",
      "  \"the number of iterations.\", ConvergenceWarning)\n"
     ]
    },
    {
     "name": "stdout",
     "output_type": "stream",
     "text": [
      "LogisticRegression(C=100, class_weight=None, dual=False, fit_intercept=True,\n",
      "          intercept_scaling=1, max_iter=100, multi_class='warn',\n",
      "          n_jobs=None, penalty='l2', random_state=None, solver='warn',\n",
      "          tol=0.0001, verbose=0, warm_start=False)\n",
      "LogisticRegression(C=10, class_weight=None, dual=False, fit_intercept=True,\n",
      "          intercept_scaling=1, max_iter=100, multi_class='warn',\n",
      "          n_jobs=None, penalty='l2', random_state=None, solver='warn',\n",
      "          tol=0.0001, verbose=0, warm_start=False)\n",
      "LogisticRegression(C=1, class_weight=None, dual=False, fit_intercept=True,\n",
      "          intercept_scaling=1, max_iter=100, multi_class='warn',\n",
      "          n_jobs=None, penalty='l2', random_state=None, solver='warn',\n",
      "          tol=0.0001, verbose=0, warm_start=False)\n",
      "LogisticRegression(C=0.1, class_weight=None, dual=False, fit_intercept=True,\n",
      "          intercept_scaling=1, max_iter=100, multi_class='warn',\n",
      "          n_jobs=None, penalty='l2', random_state=None, solver='warn',\n",
      "          tol=0.0001, verbose=0, warm_start=False)\n",
      "LogisticRegression(C=0.01, class_weight=None, dual=False, fit_intercept=True,\n",
      "          intercept_scaling=1, max_iter=100, multi_class='warn',\n",
      "          n_jobs=None, penalty='l2', random_state=None, solver='warn',\n",
      "          tol=0.0001, verbose=0, warm_start=False)\n",
      "LogisticRegression(C=1.0, class_weight=None, dual=False, fit_intercept=True,\n",
      "          intercept_scaling=1, max_iter=100, multi_class='warn',\n",
      "          n_jobs=None, penalty='l1', random_state=None, solver='warn',\n",
      "          tol=0.0001, verbose=0, warm_start=False)\n",
      "DecisionTreeClassifier(class_weight=None, criterion='gini', max_depth=4,\n",
      "            max_features=None, max_leaf_nodes=None,\n",
      "            min_impurity_decrease=0.0, min_impurity_split=None,\n",
      "            min_samples_leaf=1, min_samples_split=2,\n",
      "            min_weight_fraction_leaf=0.0, presort=False, random_state=None,\n",
      "            splitter='best')\n",
      "RandomForestClassifier(bootstrap=True, class_weight=None, criterion='gini',\n",
      "            max_depth=4, max_features='auto', max_leaf_nodes=None,\n",
      "            min_impurity_decrease=0.0, min_impurity_split=None,\n",
      "            min_samples_leaf=1, min_samples_split=2,\n",
      "            min_weight_fraction_leaf=0.0, n_estimators=3, n_jobs=None,\n",
      "            oob_score=False, random_state=None, verbose=0,\n",
      "            warm_start=False)\n",
      "RandomForestClassifier(bootstrap=True, class_weight=None, criterion='gini',\n",
      "            max_depth=2, max_features='auto', max_leaf_nodes=None,\n",
      "            min_impurity_decrease=0.0, min_impurity_split=None,\n",
      "            min_samples_leaf=1, min_samples_split=2,\n",
      "            min_weight_fraction_leaf=0.0, n_estimators=10, n_jobs=None,\n",
      "            oob_score=False, random_state=None, verbose=0,\n",
      "            warm_start=False)\n",
      "RandomForestClassifier(bootstrap=True, class_weight=None, criterion='gini',\n",
      "            max_depth=4, max_features='auto', max_leaf_nodes=None,\n",
      "            min_impurity_decrease=0.0, min_impurity_split=None,\n",
      "            min_samples_leaf=1, min_samples_split=2,\n",
      "            min_weight_fraction_leaf=0.0, n_estimators=10, n_jobs=None,\n",
      "            oob_score=False, random_state=None, verbose=0,\n",
      "            warm_start=False)\n",
      "GradientBoostingClassifier(criterion='friedman_mse', init=None,\n",
      "              learning_rate=0.1, loss='deviance', max_depth=2,\n",
      "              max_features=None, max_leaf_nodes=None,\n",
      "              min_impurity_decrease=0.0, min_impurity_split=None,\n",
      "              min_samples_leaf=1, min_samples_split=2,\n",
      "              min_weight_fraction_leaf=0.0, n_estimators=10,\n",
      "              n_iter_no_change=None, presort='auto', random_state=None,\n",
      "              subsample=1.0, tol=0.0001, validation_fraction=0.1,\n",
      "              verbose=0, warm_start=False)\n"
     ]
    },
    {
     "name": "stderr",
     "output_type": "stream",
     "text": [
      "/Library/Frameworks/Python.framework/Versions/3.6/lib/python3.6/site-packages/sklearn/linear_model/logistic.py:433: FutureWarning: Default solver will be changed to 'lbfgs' in 0.22. Specify a solver to silence this warning.\n",
      "  FutureWarning)\n",
      "/Library/Frameworks/Python.framework/Versions/3.6/lib/python3.6/site-packages/sklearn/linear_model/logistic.py:433: FutureWarning: Default solver will be changed to 'lbfgs' in 0.22. Specify a solver to silence this warning.\n",
      "  FutureWarning)\n",
      "/Library/Frameworks/Python.framework/Versions/3.6/lib/python3.6/site-packages/sklearn/linear_model/logistic.py:433: FutureWarning: Default solver will be changed to 'lbfgs' in 0.22. Specify a solver to silence this warning.\n",
      "  FutureWarning)\n",
      "/Library/Frameworks/Python.framework/Versions/3.6/lib/python3.6/site-packages/sklearn/linear_model/logistic.py:433: FutureWarning: Default solver will be changed to 'lbfgs' in 0.22. Specify a solver to silence this warning.\n",
      "  FutureWarning)\n",
      "/Library/Frameworks/Python.framework/Versions/3.6/lib/python3.6/site-packages/sklearn/linear_model/logistic.py:433: FutureWarning: Default solver will be changed to 'lbfgs' in 0.22. Specify a solver to silence this warning.\n",
      "  FutureWarning)\n",
      "/Library/Frameworks/Python.framework/Versions/3.6/lib/python3.6/site-packages/sklearn/linear_model/logistic.py:433: FutureWarning: Default solver will be changed to 'lbfgs' in 0.22. Specify a solver to silence this warning.\n",
      "  FutureWarning)\n"
     ]
    }
   ],
   "source": [
    "from sklearn.linear_model import LogisticRegression\n",
    "from sklearn.tree import DecisionTreeClassifier\n",
    "from sklearn.ensemble import RandomForestClassifier\n",
    "from sklearn.preprocessing import StandardScaler\n",
    "from sklearn import svm \n",
    "from sklearn.ensemble import GradientBoostingClassifier\n",
    "\n",
    "\n",
    "C = 1.0\n",
    "models = []\n",
    "models.extend([\n",
    "    svm.LinearSVC(penalty='l2'), \n",
    "    svm.SVC(kernel='linear', C=C), \n",
    "    svm.LinearSVC(C=C), \n",
    "    svm.SVC(kernel='rbf', gamma=0.7, C=C)\n",
    "    #svm.SVC(kernel='poly', degree=3, C=C)\n",
    "    ])\n",
    "numSVMs = len(models)\n",
    "print(numSVMs)\n",
    "models.append(LogisticRegression(C=100))\n",
    "models.append(LogisticRegression(C=10))\n",
    "models.append(LogisticRegression(C=1))\n",
    "models.append(LogisticRegression(C=0.1))\n",
    "models.append(LogisticRegression(C=0.01))\n",
    "models.append(LogisticRegression(penalty='l1'))\n",
    "models.append(DecisionTreeClassifier(max_depth=4))\n",
    "models.append(RandomForestClassifier(n_estimators=3, max_depth=4))\n",
    "models.append(RandomForestClassifier(n_estimators=10, max_depth=2))\n",
    "models.append(RandomForestClassifier(n_estimators=10, max_depth=4))\n",
    "models.append(GradientBoostingClassifier(n_estimators=10, max_depth=2))\n",
    "\n",
    "for i in range(len(models)):\n",
    "    print(models[i])\n",
    "    #scaler = StandardScaler()\n",
    "    #data = scaler.fit_transform(train_df[X_cols_all].values)\n",
    "    models[i].fit(train_df[X_cols_all].values, train_df[Y_cols].values)\n",
    "    "
   ]
  },
  {
   "cell_type": "code",
   "execution_count": 137,
   "metadata": {
    "scrolled": true
   },
   "outputs": [
    {
     "name": "stdout",
     "output_type": "stream",
     "text": [
      "0 LogisticRegression(C=1, class_weight=None, dual=False, fit_intercept=True,\n",
      "          intercept_scaling=1, max_iter=100, multi_class='warn',\n",
      "          n_jobs=None, penalty='l2', random_state=None, solver='warn',\n",
      "          tol=0.0001, verbose=0, warm_start=False)\n",
      "0.74 0.62\n",
      "0.74 0.64\n",
      "THRESHOLD: 0.576306990252 at precision  0.752747252747  and recall  0.702564102564\n"
     ]
    },
    {
     "data": {
      "image/png": "[encoded data removed]",
      "text/plain": [
       "<matplotlib.figure.Figure at 0x190603940>"
      ]
     },
     "metadata": {},
     "output_type": "display_data"
    },
    {
     "name": "stdout",
     "output_type": "stream",
     "text": [
      "0.70 0.76\n",
      "NO TH IS GOOD\n"
     ]
    },
    {
     "data": {
      "image/png": "[encoded data removed]",
      "text/plain": [
       "<matplotlib.figure.Figure at 0x120442eb8>"
      ]
     },
     "metadata": {},
     "output_type": "display_data"
    },
    {
     "name": "stdout",
     "output_type": "stream",
     "text": [
      "\n",
      "\n",
      "1 RandomForestClassifier(bootstrap=True, class_weight=None, criterion='gini',\n",
      "            max_depth=2, max_features='auto', max_leaf_nodes=None,\n",
      "            min_impurity_decrease=0.0, min_impurity_split=None,\n",
      "            min_samples_leaf=1, min_samples_split=2,\n",
      "            min_weight_fraction_leaf=0.0, n_estimators=10, n_jobs=None,\n",
      "            oob_score=False, random_state=None, verbose=0,\n",
      "            warm_start=False)\n",
      "0.72 0.67\n",
      "0.75 0.68\n",
      "NO TH IS GOOD\n"
     ]
    },
    {
     "data": {
      "image/png": "[encoded data removed]",
      "text/plain": [
       "<matplotlib.figure.Figure at 0x150e44fd0>"
      ]
     },
     "metadata": {},
     "output_type": "display_data"
    },
    {
     "name": "stdout",
     "output_type": "stream",
     "text": [
      "0.70 0.84\n",
      "NO TH IS GOOD\n"
     ]
    },
    {
     "data": {
      "image/png": "[encoded data removed]",
      "text/plain": [
       "<matplotlib.figure.Figure at 0x12badac50>"
      ]
     },
     "metadata": {},
     "output_type": "display_data"
    },
    {
     "name": "stdout",
     "output_type": "stream",
     "text": [
      "\n",
      "\n"
     ]
    }
   ],
   "source": [
    "from sklearn.metrics import classification_report\n",
    "\n",
    "def predictions_k(model, probs, th):\n",
    "    return probs[:, 1] >= th\n",
    "\n",
    "th = 0.6#0.576310286793\n",
    "\n",
    "numSVMs = 0\n",
    "\n",
    "small_models = [models[6], models[12]]\n",
    "for i, model in enumerate(small_models):\n",
    "    print(i, model)\n",
    "    for j, df in enumerate([train_df, val_df, test_df]):\n",
    "        X = df[X_cols_all].values\n",
    "        Y = df[Y_cols].values\n",
    "        \n",
    "        if i >= numSVMs:\n",
    "            probs = model.predict_proba(X)\n",
    "            predictions = predictions_k(model, probs, th)\n",
    "            report = classification_report(Y, predictions, output_dict = True)\n",
    "            print('%.2f %.2f' %( report['1']['precision'], report['1']['recall']))\n",
    "            if j == 1 or j == 2:\n",
    "                plot_curves(model, probs, Y)\n",
    "        else:\n",
    "            predictions = model.predict(X)\n",
    "            report = classification_report(Y, predictions, output_dict = True)\n",
    "            print('%.2f %.2f' %( report['1']['precision'], report['1']['recall']))\n",
    "            \n",
    "        #print(pd.Series(predictions).value_counts())\n",
    "        \n",
    "        #print(\"-\"*50)\n",
    "    \n",
    "    #print(\"-\"*100)\n",
    "    print('\\n')"
   ]
  },
  {
   "cell_type": "markdown",
   "metadata": {},
   "source": [
    "## Testing"
   ]
  },
  {
   "cell_type": "code",
   "execution_count": 77,
   "metadata": {},
   "outputs": [
    {
     "ename": "NameError",
     "evalue": "name 'j' is not defined",
     "output_type": "error",
     "traceback": [
      "\u001b[0;31m---------------------------------------------------------------------------\u001b[0m",
      "\u001b[0;31mNameError\u001b[0m                                 Traceback (most recent call last)",
      "\u001b[0;32m<ipython-input-77-08bf23c88e12>\u001b[0m in \u001b[0;36m<module>\u001b[0;34m()\u001b[0m\n\u001b[1;32m      6\u001b[0m \u001b[0;34m\u001b[0m\u001b[0m\n\u001b[1;32m      7\u001b[0m \u001b[0;32mfor\u001b[0m \u001b[0mi\u001b[0m\u001b[0;34m,\u001b[0m \u001b[0mmodel\u001b[0m \u001b[0;32min\u001b[0m \u001b[0menumerate\u001b[0m\u001b[0;34m(\u001b[0m\u001b[0mmodels\u001b[0m\u001b[0;34m)\u001b[0m\u001b[0;34m:\u001b[0m\u001b[0;34m\u001b[0m\u001b[0m\n\u001b[0;32m----> 8\u001b[0;31m     \u001b[0mprint\u001b[0m\u001b[0;34m(\u001b[0m\u001b[0mj\u001b[0m \u001b[0;34m,\u001b[0m\u001b[0mi\u001b[0m\u001b[0;34m)\u001b[0m\u001b[0;34m\u001b[0m\u001b[0m\n\u001b[0m\u001b[1;32m      9\u001b[0m     \u001b[0mpredictions\u001b[0m \u001b[0;34m=\u001b[0m \u001b[0mmodel\u001b[0m\u001b[0;34m.\u001b[0m\u001b[0mpredict\u001b[0m\u001b[0;34m(\u001b[0m\u001b[0mtest_df1\u001b[0m\u001b[0;34m[\u001b[0m\u001b[0mX_colss\u001b[0m\u001b[0;34m[\u001b[0m\u001b[0mj\u001b[0m\u001b[0;34m]\u001b[0m\u001b[0;34m]\u001b[0m\u001b[0;34m.\u001b[0m\u001b[0mvalues\u001b[0m\u001b[0;34m)\u001b[0m\u001b[0;34m\u001b[0m\u001b[0m\n\u001b[1;32m     10\u001b[0m     \u001b[0mpredictions\u001b[0m \u001b[0;34m=\u001b[0m \u001b[0mpredictions_k\u001b[0m\u001b[0;34m(\u001b[0m\u001b[0mmodel\u001b[0m\u001b[0;34m,\u001b[0m \u001b[0mtest_df1\u001b[0m\u001b[0;34m[\u001b[0m\u001b[0mX_colss\u001b[0m\u001b[0;34m[\u001b[0m\u001b[0mj\u001b[0m\u001b[0;34m]\u001b[0m\u001b[0;34m]\u001b[0m\u001b[0;34m.\u001b[0m\u001b[0mvalues\u001b[0m\u001b[0;34m,\u001b[0m \u001b[0;36m0.6\u001b[0m\u001b[0;34m)\u001b[0m\u001b[0;34m\u001b[0m\u001b[0m\n",
      "\u001b[0;31mNameError\u001b[0m: name 'j' is not defined"
     ]
    }
   ],
   "source": [
    "from sklearn.metrics import classification_report\n",
    "\n",
    "def predictions_k(model, X, k):\n",
    "    probs = model.predict_proba(X)\n",
    "    return probs[:, 1] >= k\n",
    "\n",
    "for i, model in enumerate(models):\n",
    "    print(j ,i)\n",
    "    predictions = model.predict(test_df1[X_colss[j]].values)\n",
    "    predictions = predictions_k(model, test_df1[X_colss[j]].values, 0.6)\n",
    "    print(pd.Series(predictions).value_counts())\n",
    "    print(classification_report(test_df1[Y_cols].values, predictions))"
   ]
  },
  {
   "cell_type": "code",
   "execution_count": 133,
   "metadata": {},
   "outputs": [],
   "source": [
    "from sklearn.metrics import auc, roc_curve\n",
    "from matplotlib import pyplot as plt\n",
    "from sklearn.metrics import precision_recall_curve\n",
    "\n",
    "def plot_curves(model, probs, ytrue):\n",
    "\n",
    "    \"\"\"\n",
    "    fpr, tpr, thresholds = roc_curve(ytrue, probs, pos_label=1)\n",
    "    score = auc(fpr, tpr)\n",
    "\n",
    "    plt.figure()\n",
    "    plt.plot(fpr, tpr, color='darkorange', label='ROC curve (area = %0.2f)' % score)\n",
    "    plt.plot([0, 1], [0, 1], color='navy', linestyle='--')\n",
    "    plt.xlim([0.0, 1.0])\n",
    "    plt.ylim([0.0, 1.05])\n",
    "    plt.xlabel('False Positive Rate')\n",
    "    plt.ylabel('True Positive Rate')\n",
    "    plt.title('Receiver operating characteristic example')\n",
    "    plt.legend(loc=\"lower right\")\n",
    "    plt.grid()\n",
    "    plt.show()\n",
    "    \"\"\"\n",
    "    #print(ytrue.shape, probs.shape)\n",
    "    precision, recall, thresholds = precision_recall_curve(ytrue, probs[:, 1])\n",
    "    th = None\n",
    "    pr = None\n",
    "    re = None\n",
    "    for i in range(len(thresholds)):\n",
    "        p = precision[i]\n",
    "        r = recall[i]\n",
    "        t = thresholds[i]\n",
    "        if p >= 0.75 and r >= 0.70:\n",
    "            th = t\n",
    "            pr = p\n",
    "            re = r\n",
    "    if th != None:\n",
    "        print(\"THRESHOLD:\", th, \"at precision \", pr, ' and recall ', re)\n",
    "    else:\n",
    "        print(\"NO TH IS GOOD\")\n",
    "    \n",
    "    plt.figure()\n",
    "    plt.plot(precision, recall, color='darkorange')\n",
    "    plt.xlabel('Precision')\n",
    "    plt.ylabel('Recall')\n",
    "    #plt.xlim([0.0, 1.0])\n",
    "    #plt.ylim([0.0, 1.05])\n",
    "    plt.grid()\n",
    "    plt.show()\n",
    "\n",
    "    \"\"\"\n",
    "    thresholds = [0.25, 0.5, 0.75]\n",
    "    for th in thresholds:\n",
    "        #print(probs)\n",
    "        predictions = [1 if prob > th else 0 for prob in probs]\n",
    "        #predictions = model.predict(val_df[X_cols].values)\n",
    "        print(pd.Series(predictions).value_counts())\n",
    "        print(classification_report(ytrue, predictions))\n",
    "    \"\"\"\n",
    "    \n",
    "    \n"
   ]
  },
  {
   "cell_type": "markdown",
   "metadata": {},
   "source": [
    "## Human Performance"
   ]
  },
  {
   "cell_type": "code",
   "execution_count": null,
   "metadata": {},
   "outputs": [],
   "source": [
    "predictions = test_df_human.is_answerable_human.apply(lambda x: label_map[x]).values\n",
    "labels = test_df_human.is_answerable.apply(lambda x: label_map[x]).values\n",
    "print(classification_report(labels, predictions))"
   ]
  },
  {
   "cell_type": "markdown",
   "metadata": {},
   "source": [
    "## Saving"
   ]
  },
  {
   "cell_type": "code",
   "execution_count": 136,
   "metadata": {},
   "outputs": [],
   "source": [
    "with open('../../data/model_answerability.pkl', 'wb') as fp:\n",
    "    pickle.dump(models[6], fp)"
   ]
  },
  {
   "cell_type": "code",
   "execution_count": null,
   "metadata": {},
   "outputs": [],
   "source": [
    "with open('../../data/model_answerability.pkl', 'rb') as fp:\n",
    "    model = pickle.load(fp)"
   ]
  },
  {
   "cell_type": "markdown",
   "metadata": {},
   "source": [
    "# visualization"
   ]
  },
  {
   "cell_type": "code",
   "execution_count": null,
   "metadata": {
    "scrolled": true
   },
   "outputs": [],
   "source": [
    "import matplotlib.pyplot as plt\n",
    "from sklearn.feature_selection import VarianceThreshold\n",
    "from time import time\n",
    "import matplotlib.pyplot as plt\n",
    "from mpl_toolkits.mplot3d import Axes3D\n",
    "from matplotlib.ticker import NullFormatter\n",
    "from sklearn import manifold, datasets\n",
    "\n",
    "\n",
    "for xcols in [X_cols_all, X_cols + ['w2v_sent', 'w2v_sent_mean', 'tfidf_sent', 'tfidf_sent_mean'], ['w2v_sent', 'tfidf_sent', 'w2v_sent_mean', 'tfidf_sent_mean']]:\n",
    "    new_df = train_df[xcols]\n",
    "    corr_matrix = new_df.corr().abs()\n",
    "    upper = corr_matrix.where(np.triu(np.ones(corr_matrix.shape), k=1).astype(np.bool))\n",
    "    to_drop = [column for column in upper.columns if any(upper[column] > 0.95)]\n",
    "    xcols = list(set(xcols) - set(to_drop))\n",
    "    print(xcols)\n",
    "    \n",
    "    for df in [train_df, val_df, test_df]:\n",
    "        X = df[xcols].values\n",
    "        color = df[Y_cols].values\n",
    "\n",
    "        # Next line to silence pyflakes. This import is needed.\n",
    "        Axes3D\n",
    "\n",
    "        n_points = len(X)\n",
    "        #X, color = datasets.samples_generator.make_s_curve(n_points, random_state=0)\n",
    "        n_neighbors = 5\n",
    "        n_components = 2\n",
    "\n",
    "        fig = plt.figure(figsize=(15, 8))\n",
    "        plt.suptitle(\"Manifold Learning with %i points, %i neighbors\"\n",
    "                     % (n_points, n_neighbors), fontsize=14)\n",
    "\n",
    "\n",
    "        ax = fig.add_subplot(251, projection='3d')\n",
    "        ax.scatter(X[:, 0], X[:, 1], X[:, 2], c=color, cmap=plt.cm.Spectral)\n",
    "        ax.view_init(4, -72)\n",
    "\n",
    "        methods = ['standard', 'ltsa', 'modified']\n",
    "        labels = ['LLE', 'LTSA', 'Modified LLE']\n",
    "\n",
    "        for i, method in enumerate(methods):\n",
    "            print(\"METHOD::::::\" + method)\n",
    "            t0 = time()\n",
    "            Y = manifold.LocallyLinearEmbedding(n_neighbors, n_components,\n",
    "                                                eigen_solver='auto',\n",
    "                                                method=method).fit_transform(X)\n",
    "            t1 = time()\n",
    "            print(\"%s: %.2g sec\" % (methods[i], t1 - t0))\n",
    "\n",
    "            ax = fig.add_subplot(252 + i)\n",
    "            plt.scatter(Y[:, 0], Y[:, 1], c=color, cmap=plt.cm.Spectral)\n",
    "            plt.title(\"%s (%.2g sec)\" % (labels[i], t1 - t0))\n",
    "            ax.xaxis.set_major_formatter(NullFormatter())\n",
    "            ax.yaxis.set_major_formatter(NullFormatter())\n",
    "            plt.axis('tight')\n",
    "\n",
    "        t0 = time()\n",
    "        Y = manifold.Isomap(n_neighbors, n_components).fit_transform(X)\n",
    "        t1 = time()\n",
    "        print(\"Isomap: %.2g sec\" % (t1 - t0))\n",
    "        ax = fig.add_subplot(257)\n",
    "        plt.scatter(Y[:, 0], Y[:, 1], c=color, cmap=plt.cm.Spectral)\n",
    "        plt.title(\"Isomap (%.2g sec)\" % (t1 - t0))\n",
    "        ax.xaxis.set_major_formatter(NullFormatter())\n",
    "        ax.yaxis.set_major_formatter(NullFormatter())\n",
    "        plt.axis('tight')\n",
    "\n",
    "\n",
    "        t0 = time()\n",
    "        mds = manifold.MDS(n_components, max_iter=100, n_init=1)\n",
    "        Y = mds.fit_transform(X)\n",
    "        t1 = time()\n",
    "        print(\"MDS: %.2g sec\" % (t1 - t0))\n",
    "        ax = fig.add_subplot(258)\n",
    "        plt.scatter(Y[:, 0], Y[:, 1], c=color, cmap=plt.cm.Spectral)\n",
    "        plt.title(\"MDS (%.2g sec)\" % (t1 - t0))\n",
    "        ax.xaxis.set_major_formatter(NullFormatter())\n",
    "        ax.yaxis.set_major_formatter(NullFormatter())\n",
    "        plt.axis('tight')\n",
    "\n",
    "\n",
    "        t0 = time()\n",
    "        se = manifold.SpectralEmbedding(n_components=n_components,\n",
    "                                        n_neighbors=n_neighbors)\n",
    "        Y = se.fit_transform(X)\n",
    "        t1 = time()\n",
    "        print(\"SpectralEmbedding: %.2g sec\" % (t1 - t0))\n",
    "        ax = fig.add_subplot(259)\n",
    "        plt.scatter(Y[:, 0], Y[:, 1], c=color, cmap=plt.cm.Spectral)\n",
    "        plt.title(\"SpectralEmbedding (%.2g sec)\" % (t1 - t0))\n",
    "        ax.xaxis.set_major_formatter(NullFormatter())\n",
    "        ax.yaxis.set_major_formatter(NullFormatter())\n",
    "        plt.axis('tight')\n",
    "\n",
    "        t0 = time()\n",
    "        tsne = manifold.TSNE(n_components=n_components, init='pca', random_state=0)\n",
    "        Y = tsne.fit_transform(X)\n",
    "        t1 = time()\n",
    "        print(\"t-SNE: %.2g sec\" % (t1 - t0))\n",
    "        ax = fig.add_subplot(2, 5, 10)\n",
    "        plt.scatter(Y[:, 0], Y[:, 1], c=color, cmap=plt.cm.Spectral)\n",
    "        plt.title(\"t-SNE (%.2g sec)\" % (t1 - t0))\n",
    "        ax.xaxis.set_major_formatter(NullFormatter())\n",
    "        ax.yaxis.set_major_formatter(NullFormatter())\n",
    "        plt.axis('tight')\n",
    "\n",
    "        print(\"REACHED END\")\n",
    "        plt.show()"
   ]
  },
  {
   "cell_type": "code",
   "execution_count": null,
   "metadata": {
    "scrolled": true
   },
   "outputs": [],
   "source": [
    "plt.show()"
   ]
  },
  {
   "cell_type": "code",
   "execution_count": null,
   "metadata": {},
   "outputs": [],
   "source": [
    "Y_cols"
   ]
  },
  {
   "cell_type": "code",
   "execution_count": null,
   "metadata": {},
   "outputs": [],
   "source": [
    "train_df[xcols]"
   ]
  }
 ],
 "metadata": {
  "kernelspec": {
   "display_name": "Python 3",
   "language": "python",
   "name": "python3"
  },
  "language_info": {
   "codemirror_mode": {
    "name": "ipython",
    "version": 3
   },
   "file_extension": ".py",
   "mimetype": "text/x-python",
   "name": "python",
   "nbconvert_exporter": "python",
   "pygments_lexer": "ipython3",
   "version": "3.6.2"
  }
 },
 "nbformat": 4,
 "nbformat_minor": 2
}
