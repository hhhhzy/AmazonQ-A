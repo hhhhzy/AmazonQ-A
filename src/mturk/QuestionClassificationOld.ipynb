{
 "cells": [
  {
   "cell_type": "code",
   "execution_count": 288,
   "metadata": {},
   "outputs": [],
   "source": [
    "import numpy as np\n",
    "import pandas as pd\n",
    "import string\n",
    "\n",
    "import sklearn"
   ]
  },
  {
   "cell_type": "code",
   "execution_count": 289,
   "metadata": {},
   "outputs": [],
   "source": [
    "def tokenize(text):\n",
    "    punctuations = string.punctuation.replace(\"\\'\", '')\n",
    "\n",
    "    for ch in punctuations:\n",
    "        text = text.replace(ch, \" \" + ch + \" \")\n",
    "\n",
    "    tokens = text.split()\n",
    "    for i, token in enumerate(tokens):\n",
    "        if not token.isupper():\n",
    "            tokens[i] = token.lower()\n",
    "    return tokens"
   ]
  },
  {
   "cell_type": "code",
   "execution_count": 290,
   "metadata": {},
   "outputs": [],
   "source": [
    "df = pd.read_csv('~/Downloads/is_answerable_Electronics_samples_400_100_1 - is_answerable_Electronics_samples_400_100_1.tsv', sep='\\t')\n",
    "df = df[~ df.is_answerable.isnull()]\n",
    "\n",
    "label_map = {'N': 0, 'S': 1, 'Y': 1}\n",
    "df['label'] = df.is_answerable.apply(lambda x: label_map[x])"
   ]
  },
  {
   "cell_type": "code",
   "execution_count": 291,
   "metadata": {},
   "outputs": [],
   "source": [
    "numberings = ['1)', '2)', '3)', '4)', '5)']\n",
    "def remove_numberings(x):\n",
    "    for i in numberings:\n",
    "        x = x.replace(i, '')\n",
    "    return x"
   ]
  },
  {
   "cell_type": "code",
   "execution_count": 292,
   "metadata": {},
   "outputs": [],
   "source": [
    "def n_intersection(q, r):\n",
    "    return len(set(q).intersection(set(r)))\n",
    "\n",
    "df['q_tokens'] = df.question.apply(lambda x: tokenize(x))\n",
    "df['r_tokens'] = df.reviews_q.apply(lambda x: tokenize(remove_numberings(x)))\n",
    "df['n_q'] = df.q_tokens.apply(lambda x: len(x))\n",
    "df['n_r'] = df.r_tokens.apply(lambda x: len(x))\n",
    "df['n_intersection'] = df.apply(lambda x: len(set(x.q_tokens).intersection(set(x.r_tokens))), axis=1)\n",
    "df['intr_frac'] = df.n_intersection / df.n_q"
   ]
  },
  {
   "cell_type": "code",
   "execution_count": 293,
   "metadata": {},
   "outputs": [
    {
     "data": {
      "text/plain": [
       "TfidfVectorizer(analyzer='word', binary=False, decode_error='strict',\n",
       "        dtype=<class 'numpy.float64'>, encoding='utf-8', input='content',\n",
       "        lowercase=True, max_df=1.0, max_features=None, min_df=1,\n",
       "        ngram_range=(1, 1), norm='l2', preprocessor=None, smooth_idf=True,\n",
       "        stop_words='english', strip_accents=None, sublinear_tf=False,\n",
       "        token_pattern='(?u)\\\\b\\\\w\\\\w+\\\\b', tokenizer=None, use_idf=True,\n",
       "        vocabulary=None)"
      ]
     },
     "execution_count": 293,
     "metadata": {},
     "output_type": "execute_result"
    }
   ],
   "source": [
    "from sklearn.feature_extraction.text import TfidfVectorizer\n",
    "\n",
    "vectorizer = TfidfVectorizer(stop_words='english')\n",
    "vectorizer.fit(list(df.question.values) + list(df.reviews_q.values))"
   ]
  },
  {
   "cell_type": "code",
   "execution_count": 294,
   "metadata": {},
   "outputs": [],
   "source": [
    "def tf_idf_sim(q, r):\n",
    "    q_vec = vectorizer.transform([q])\n",
    "    r_vec = vectorizer.transform([r])\n",
    "    return q_vec.dot(r_vec.transpose()).toarray()[0][0]"
   ]
  },
  {
   "cell_type": "code",
   "execution_count": 295,
   "metadata": {},
   "outputs": [],
   "source": [
    "df['tfidf'] = df.apply(lambda x: tf_idf_sim(x.question, x.reviews_q), axis=1)"
   ]
  },
  {
   "cell_type": "code",
   "execution_count": 296,
   "metadata": {},
   "outputs": [
    {
     "data": {
      "text/plain": [
       "{'can', 'recorder', 'the', 'this'}"
      ]
     },
     "execution_count": 296,
     "metadata": {},
     "output_type": "execute_result"
    }
   ],
   "source": [
    "q = df.question.iloc[1]\n",
    "r = remove_numberings(df.reviews_q.iloc[1])\n",
    "set(q_tokens).intersection(set(r_tokens))"
   ]
  },
  {
   "cell_type": "code",
   "execution_count": 297,
   "metadata": {},
   "outputs": [
    {
     "data": {
      "text/html": [
       "<div>\n",
       "<style scoped>\n",
       "    .dataframe tbody tr th:only-of-type {\n",
       "        vertical-align: middle;\n",
       "    }\n",
       "\n",
       "    .dataframe tbody tr th {\n",
       "        vertical-align: top;\n",
       "    }\n",
       "\n",
       "    .dataframe thead th {\n",
       "        text-align: right;\n",
       "    }\n",
       "</style>\n",
       "<table border=\"1\" class=\"dataframe\">\n",
       "  <thead>\n",
       "    <tr style=\"text-align: right;\">\n",
       "      <th></th>\n",
       "      <th>n_q</th>\n",
       "      <th>n_r</th>\n",
       "      <th>n_intersection</th>\n",
       "      <th>intr_frac</th>\n",
       "      <th>tfidf</th>\n",
       "    </tr>\n",
       "    <tr>\n",
       "      <th>label</th>\n",
       "      <th></th>\n",
       "      <th></th>\n",
       "      <th></th>\n",
       "      <th></th>\n",
       "      <th></th>\n",
       "    </tr>\n",
       "  </thead>\n",
       "  <tbody>\n",
       "    <tr>\n",
       "      <th>0</th>\n",
       "      <td>22.668571</td>\n",
       "      <td>366.731429</td>\n",
       "      <td>9.942857</td>\n",
       "      <td>0.511709</td>\n",
       "      <td>0.144250</td>\n",
       "    </tr>\n",
       "    <tr>\n",
       "      <th>1</th>\n",
       "      <td>20.844262</td>\n",
       "      <td>394.385246</td>\n",
       "      <td>11.213115</td>\n",
       "      <td>0.600395</td>\n",
       "      <td>0.217068</td>\n",
       "    </tr>\n",
       "  </tbody>\n",
       "</table>\n",
       "</div>"
      ],
      "text/plain": [
       "             n_q         n_r  n_intersection  intr_frac     tfidf\n",
       "label                                                            \n",
       "0      22.668571  366.731429        9.942857   0.511709  0.144250\n",
       "1      20.844262  394.385246       11.213115   0.600395  0.217068"
      ]
     },
     "execution_count": 297,
     "metadata": {},
     "output_type": "execute_result"
    }
   ],
   "source": [
    "df[['label', 'n_q', 'n_r', 'n_intersection', 'intr_frac', 'tfidf']].groupby('label').mean()"
   ]
  },
  {
   "cell_type": "code",
   "execution_count": 323,
   "metadata": {},
   "outputs": [],
   "source": [
    "df2 = df.sample(290)\n",
    "train, test = df2.iloc[:190], df[190:]"
   ]
  },
  {
   "cell_type": "code",
   "execution_count": 316,
   "metadata": {},
   "outputs": [
    {
     "data": {
      "text/plain": [
       "RandomForestClassifier(bootstrap=True, class_weight=None, criterion='gini',\n",
       "            max_depth=None, max_features='auto', max_leaf_nodes=None,\n",
       "            min_impurity_decrease=0.0, min_impurity_split=None,\n",
       "            min_samples_leaf=1, min_samples_split=2,\n",
       "            min_weight_fraction_leaf=0.0, n_estimators=5, n_jobs=None,\n",
       "            oob_score=False, random_state=None, verbose=0,\n",
       "            warm_start=False)"
      ]
     },
     "execution_count": 316,
     "metadata": {},
     "output_type": "execute_result"
    }
   ],
   "source": [
    "X_cols = ['n_q', 'n_r', 'n_intersection', 'intr_frac', 'tfidf']\n",
    "Y_cols = 'label'\n",
    "\n",
    "from sklearn.linear_model import LogisticRegression\n",
    "from sklearn.tree import DecisionTreeClassifier\n",
    "from sklearn.ensemble import RandomForestClassifier\n",
    "model = LogisticRegression()\n",
    "model = DecisionTreeClassifier()\n",
    "model = RandomForestClassifier(n_estimators=5)\n",
    "model.fit(train[X_cols].values, train[Y_cols].values)"
   ]
  },
  {
   "cell_type": "code",
   "execution_count": 317,
   "metadata": {},
   "outputs": [
    {
     "data": {
      "text/plain": [
       "0.87850467289719625"
      ]
     },
     "execution_count": 317,
     "metadata": {},
     "output_type": "execute_result"
    }
   ],
   "source": [
    "(model.predict(test[X_cols].values) == test[Y_cols].values).mean()"
   ]
  },
  {
   "cell_type": "code",
   "execution_count": 324,
   "metadata": {},
   "outputs": [
    {
     "name": "stdout",
     "output_type": "stream",
     "text": [
      "              precision    recall  f1-score   support\n",
      "\n",
      "           0       0.88      0.94      0.91        71\n",
      "           1       0.87      0.75      0.81        36\n",
      "\n",
      "   micro avg       0.88      0.88      0.88       107\n",
      "   macro avg       0.88      0.85      0.86       107\n",
      "weighted avg       0.88      0.88      0.88       107\n",
      "\n"
     ]
    }
   ],
   "source": [
    "from sklearn.metrics import classification_report\n",
    "print(classification_report(test[Y_cols].values, model.predict(test[X_cols].values)))"
   ]
  },
  {
   "cell_type": "code",
   "execution_count": 322,
   "metadata": {},
   "outputs": [
    {
     "data": {
      "text/plain": [
       "31"
      ]
     },
     "execution_count": 322,
     "metadata": {},
     "output_type": "execute_result"
    }
   ],
   "source": [
    "sum(model.predict(test[X_cols].values) == 1)"
   ]
  },
  {
   "cell_type": "code",
   "execution_count": 326,
   "metadata": {},
   "outputs": [],
   "source": [
    "import pickle\n",
    "with open('q_classification_model.pkl', 'wb') as fp:\n",
    "    pickle.dump(model, fp)"
   ]
  },
  {
   "cell_type": "code",
   "execution_count": 356,
   "metadata": {},
   "outputs": [],
   "source": [
    "df3 = df.head()"
   ]
  },
  {
   "cell_type": "code",
   "execution_count": 359,
   "metadata": {},
   "outputs": [],
   "source": [
    "for row_id, (i, row) in enumerate(df3.iterrows()):\n",
    "    df3.at[i, 'question'] = 'a'"
   ]
  },
  {
   "cell_type": "code",
   "execution_count": 360,
   "metadata": {},
   "outputs": [
    {
     "data": {
      "text/html": [
       "<div>\n",
       "<style scoped>\n",
       "    .dataframe tbody tr th:only-of-type {\n",
       "        vertical-align: middle;\n",
       "    }\n",
       "\n",
       "    .dataframe tbody tr th {\n",
       "        vertical-align: top;\n",
       "    }\n",
       "\n",
       "    .dataframe thead th {\n",
       "        text-align: right;\n",
       "    }\n",
       "</style>\n",
       "<table border=\"1\" class=\"dataframe\">\n",
       "  <thead>\n",
       "    <tr style=\"text-align: right;\">\n",
       "      <th></th>\n",
       "      <th>sl_no</th>\n",
       "      <th>id</th>\n",
       "      <th>Assignee</th>\n",
       "      <th>question</th>\n",
       "      <th>reviews_q</th>\n",
       "      <th>reviews_a1</th>\n",
       "      <th>reviews_a2</th>\n",
       "      <th>reviews_a3</th>\n",
       "      <th>is_answerable</th>\n",
       "      <th>Unnamed: 9</th>\n",
       "      <th>label</th>\n",
       "      <th>q_tokens</th>\n",
       "      <th>r_tokens</th>\n",
       "      <th>n_q</th>\n",
       "      <th>n_r</th>\n",
       "      <th>n_intersection</th>\n",
       "      <th>intr_frac</th>\n",
       "      <th>tfidf</th>\n",
       "    </tr>\n",
       "  </thead>\n",
       "  <tbody>\n",
       "    <tr>\n",
       "      <th>99</th>\n",
       "      <td>99</td>\n",
       "      <td>(536,3)</td>\n",
       "      <td>M</td>\n",
       "      <td>a</td>\n",
       "      <td>1) these are very nice monitors!! very clear v...</td>\n",
       "      <td>Answer: Standard US household current  Reviews...</td>\n",
       "      <td>Answer: It plugs directly into the 120 wall ou...</td>\n",
       "      <td>Answer: It uses a power brick. The monitor req...</td>\n",
       "      <td>N</td>\n",
       "      <td>NaN</td>\n",
       "      <td>0</td>\n",
       "      <td>[what, is, power, source, ?, 6v, ,, 12v, ?, ?, ?]</td>\n",
       "      <td>[these, are, very, nice, monitors, !, !, very,...</td>\n",
       "      <td>11</td>\n",
       "      <td>413</td>\n",
       "      <td>2</td>\n",
       "      <td>0.181818</td>\n",
       "      <td>0.000000</td>\n",
       "    </tr>\n",
       "    <tr>\n",
       "      <th>100</th>\n",
       "      <td>100</td>\n",
       "      <td>(3498,4)</td>\n",
       "      <td>M</td>\n",
       "      <td>a</td>\n",
       "      <td>1) That's a good sized file. And recording a s...</td>\n",
       "      <td>Answer: I don't know what pyle mini speakers a...</td>\n",
       "      <td>Answer: If the pyle speakers are powered,(have...</td>\n",
       "      <td>Answer: What for? This is the worst machine in...</td>\n",
       "      <td>N</td>\n",
       "      <td>NaN</td>\n",
       "      <td>0</td>\n",
       "      <td>[can, i, connect, pyle, mini, speakers, the, t...</td>\n",
       "      <td>[that's, a, good, sized, file, ., and, recordi...</td>\n",
       "      <td>10</td>\n",
       "      <td>464</td>\n",
       "      <td>4</td>\n",
       "      <td>0.400000</td>\n",
       "      <td>0.058293</td>\n",
       "    </tr>\n",
       "    <tr>\n",
       "      <th>101</th>\n",
       "      <td>101</td>\n",
       "      <td>(3971,6)</td>\n",
       "      <td>M</td>\n",
       "      <td>a</td>\n",
       "      <td>1) The difference between this and an ordinary...</td>\n",
       "      <td>Answer: Yes it will. Remember however that the...</td>\n",
       "      <td>Answer: Yes. Any EF mount camera.  Reviews: 1)...</td>\n",
       "      <td>Answer: Yes. And trust me it's worth it!  Revi...</td>\n",
       "      <td>S</td>\n",
       "      <td>NaN</td>\n",
       "      <td>1</td>\n",
       "      <td>[will, this, work, on, a, canon, EOS, 50D, ?]</td>\n",
       "      <td>[the, difference, between, this, and, an, ordi...</td>\n",
       "      <td>9</td>\n",
       "      <td>386</td>\n",
       "      <td>8</td>\n",
       "      <td>0.888889</td>\n",
       "      <td>0.178370</td>\n",
       "    </tr>\n",
       "    <tr>\n",
       "      <th>102</th>\n",
       "      <td>102</td>\n",
       "      <td>(576,2)</td>\n",
       "      <td>M</td>\n",
       "      <td>a</td>\n",
       "      <td>1) For the money I don't think you can do bett...</td>\n",
       "      <td>Answer: No. It's a piece of crap. Don't buy  R...</td>\n",
       "      <td>Answer: I agree with William, I used it for 1 ...</td>\n",
       "      <td>Answer: Mine came with the wide angle lens but...</td>\n",
       "      <td>N</td>\n",
       "      <td>NaN</td>\n",
       "      <td>0</td>\n",
       "      <td>[does, the, camera, come, with, a, ref, filter...</td>\n",
       "      <td>[for, the, money, I, don't, think, you, can, d...</td>\n",
       "      <td>10</td>\n",
       "      <td>217</td>\n",
       "      <td>5</td>\n",
       "      <td>0.500000</td>\n",
       "      <td>0.023271</td>\n",
       "    </tr>\n",
       "    <tr>\n",
       "      <th>103</th>\n",
       "      <td>103</td>\n",
       "      <td>(3651,1)</td>\n",
       "      <td>M</td>\n",
       "      <td>a</td>\n",
       "      <td>1) First thing I would like to point out is ho...</td>\n",
       "      <td>Answer: Umbrella inserts below the tilt joint ...</td>\n",
       "      <td>Answer: Yes it does. But the screw that locks ...</td>\n",
       "      <td>Answer: It's pictured upside down. The umbrell...</td>\n",
       "      <td>Y</td>\n",
       "      <td>NaN</td>\n",
       "      <td>1</td>\n",
       "      <td>[does, the, umbrella, hole, come, in, from, th...</td>\n",
       "      <td>[first, thing, I, would, like, to, point, out,...</td>\n",
       "      <td>21</td>\n",
       "      <td>285</td>\n",
       "      <td>12</td>\n",
       "      <td>0.571429</td>\n",
       "      <td>0.115998</td>\n",
       "    </tr>\n",
       "  </tbody>\n",
       "</table>\n",
       "</div>"
      ],
      "text/plain": [
       "     sl_no        id Assignee question  \\\n",
       "99      99   (536,3)        M        a   \n",
       "100    100  (3498,4)        M        a   \n",
       "101    101  (3971,6)        M        a   \n",
       "102    102   (576,2)        M        a   \n",
       "103    103  (3651,1)        M        a   \n",
       "\n",
       "                                             reviews_q  \\\n",
       "99   1) these are very nice monitors!! very clear v...   \n",
       "100  1) That's a good sized file. And recording a s...   \n",
       "101  1) The difference between this and an ordinary...   \n",
       "102  1) For the money I don't think you can do bett...   \n",
       "103  1) First thing I would like to point out is ho...   \n",
       "\n",
       "                                            reviews_a1  \\\n",
       "99   Answer: Standard US household current  Reviews...   \n",
       "100  Answer: I don't know what pyle mini speakers a...   \n",
       "101  Answer: Yes it will. Remember however that the...   \n",
       "102  Answer: No. It's a piece of crap. Don't buy  R...   \n",
       "103  Answer: Umbrella inserts below the tilt joint ...   \n",
       "\n",
       "                                            reviews_a2  \\\n",
       "99   Answer: It plugs directly into the 120 wall ou...   \n",
       "100  Answer: If the pyle speakers are powered,(have...   \n",
       "101  Answer: Yes. Any EF mount camera.  Reviews: 1)...   \n",
       "102  Answer: I agree with William, I used it for 1 ...   \n",
       "103  Answer: Yes it does. But the screw that locks ...   \n",
       "\n",
       "                                            reviews_a3 is_answerable  \\\n",
       "99   Answer: It uses a power brick. The monitor req...             N   \n",
       "100  Answer: What for? This is the worst machine in...             N   \n",
       "101  Answer: Yes. And trust me it's worth it!  Revi...             S   \n",
       "102  Answer: Mine came with the wide angle lens but...             N   \n",
       "103  Answer: It's pictured upside down. The umbrell...             Y   \n",
       "\n",
       "    Unnamed: 9  label                                           q_tokens  \\\n",
       "99         NaN      0  [what, is, power, source, ?, 6v, ,, 12v, ?, ?, ?]   \n",
       "100        NaN      0  [can, i, connect, pyle, mini, speakers, the, t...   \n",
       "101        NaN      1      [will, this, work, on, a, canon, EOS, 50D, ?]   \n",
       "102        NaN      0  [does, the, camera, come, with, a, ref, filter...   \n",
       "103        NaN      1  [does, the, umbrella, hole, come, in, from, th...   \n",
       "\n",
       "                                              r_tokens  n_q  n_r  \\\n",
       "99   [these, are, very, nice, monitors, !, !, very,...   11  413   \n",
       "100  [that's, a, good, sized, file, ., and, recordi...   10  464   \n",
       "101  [the, difference, between, this, and, an, ordi...    9  386   \n",
       "102  [for, the, money, I, don't, think, you, can, d...   10  217   \n",
       "103  [first, thing, I, would, like, to, point, out,...   21  285   \n",
       "\n",
       "     n_intersection  intr_frac     tfidf  \n",
       "99                2   0.181818  0.000000  \n",
       "100               4   0.400000  0.058293  \n",
       "101               8   0.888889  0.178370  \n",
       "102               5   0.500000  0.023271  \n",
       "103              12   0.571429  0.115998  "
      ]
     },
     "execution_count": 360,
     "metadata": {},
     "output_type": "execute_result"
    }
   ],
   "source": [
    "df3"
   ]
  },
  {
   "cell_type": "code",
   "execution_count": null,
   "metadata": {},
   "outputs": [],
   "source": []
  }
 ],
 "metadata": {
  "kernelspec": {
   "display_name": "Python 3",
   "language": "python",
   "name": "python3"
  },
  "language_info": {
   "codemirror_mode": {
    "name": "ipython",
    "version": 3
   },
   "file_extension": ".py",
   "mimetype": "text/x-python",
   "name": "python",
   "nbconvert_exporter": "python",
   "pygments_lexer": "ipython3",
   "version": "3.6.2"
  }
 },
 "nbformat": 4,
 "nbformat_minor": 2
}
