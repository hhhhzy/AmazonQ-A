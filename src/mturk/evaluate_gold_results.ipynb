{
 "cells": [
  {
   "cell_type": "code",
   "execution_count": 80,
   "metadata": {},
   "outputs": [],
   "source": [
    "import pandas as pd"
   ]
  },
  {
   "cell_type": "code",
   "execution_count": 81,
   "metadata": {},
   "outputs": [],
   "source": [
    "# no of questions marked,\n",
    "# no of questions soft correct (0.5 for Y-S or N-S, 1 for Y-N) and hard correct, \n",
    "\n",
    "# no of easy questions marked,\n",
    "# no of questions soft correct (0.5 for Y-S or N-S, 1 for Y-N) and hard correct,\n",
    "# No of snippets for easy questions correctly marked"
   ]
  },
  {
   "cell_type": "code",
   "execution_count": 82,
   "metadata": {
    "scrolled": true
   },
   "outputs": [],
   "source": [
    "def preprocess(ans_df, res_df):\n",
    "    num_ques = 5\n",
    "\n",
    "    def add_id(df, key):\n",
    "        df[\"uid\"] = \"\"\n",
    "        df[\"uid\"] = df.uid.str.cat([df[key + str(i+1)] for i in range(num_ques)], '#')\n",
    "        df.set_index(\"uid\")\n",
    "        return df\n",
    "\n",
    "    ans_df = add_id(ans_df, \"id\")\n",
    "    res_df = add_id(res_df, \"Input.id\")\n",
    "    df = pd.merge(ans_df, res_df, left_index=True, right_index=True)\n",
    "    # fill correct answer for answerable\n",
    "\n",
    "    for i in range(num_ques):\n",
    "        df[\"is_easy\" + str(i+1)] = df[\"is_easy\" + str(i + 1)].replace('Y', True)\n",
    "        df[\"is_easy\" + str(i+1)] = df[\"is_easy\" + str(i + 1)].replace('N', False)\n",
    "\n",
    "        df[\"is_answerable\" + str(i + 1)] = df[\"is_answerable\" + str(i + 1)].replace('Y', 1)\n",
    "        df[\"is_answerable\" + str(i + 1)] = df[\"is_answerable\" + str(i + 1)].replace('S', 2)    \n",
    "        df[\"is_answerable\" + str(i + 1)] = df[\"is_answerable\" + str(i + 1)].replace('N', 3)\n",
    "\n",
    "        df[\"is_answerable_SY\" + str(i + 1)] = df[\"is_answerable\" + str(i + 1)].replace(2, 1)\n",
    "        df[\"is_answerable_NY\" + str(i + 1)] = df[\"is_answerable\" + str(i + 1)].replace(3, 2)\n",
    "\n",
    "        df[\"Answer.Q\" + str(i + 1) + \"ans_SY\"] = df[\"Answer.Q\" + str(i + 1) + \"ans\"].replace(2, 1)\n",
    "        df[\"Answer.Q\" + str(i + 1) + \"ans_NY\"] = df[\"Answer.Q\" + str(i + 1) + \"ans\"].replace(3, 2)\n",
    "\n",
    "\n",
    "    for i in range(num_ques):\n",
    "        df[\"hard_check\" + str(i+1)]    = df[\"is_answerable\" + str(i + 1)] == df[\"Answer.Q\" + str(i + 1) + \"ans\"]\n",
    "        df[\"soft_check_SY\" + str(i+1)] = df[\"is_answerable_SY\" + str(i + 1)] == df[\"Answer.Q\" + str(i + 1) + \"ans_SY\"]\n",
    "        df[\"soft_check_NY\" + str(i+1)] = df[\"is_answerable_NY\" + str(i + 1)] == df[\"Answer.Q\" + str(i + 1) + \"ans_NY\"]\n",
    "    \n",
    "    return df"
   ]
  },
  {
   "cell_type": "code",
   "execution_count": 193,
   "metadata": {
    "scrolled": true
   },
   "outputs": [],
   "source": [
    "def print_accuracy(df):\n",
    "    \n",
    "    # ALL ACCURACY\n",
    "    \n",
    "    L = len(df)\n",
    "    TL = L * num_ques\n",
    "    \"\"\"\n",
    "    print(sum([sum(df[\"hard_check\"    + str(i + 1)]) for i in range(num_ques)]) / TL)\n",
    "    print(sum([sum(df[\"soft_check_SY\" + str(i + 1)]) for i in range(num_ques)]) / TL)\n",
    "    print(sum([sum(df[\"soft_check_NY\" + str(i + 1)]) for i in range(num_ques)]) / TL)\n",
    "\n",
    "    print(\"-\"*20)\n",
    "\n",
    "    #EASY ACCURACY\n",
    "\n",
    "    print(sum([sum(df[\"hard_check\"    + str(i + 1)] & df[\"is_easy\" + str(i + 1)]) for i in range(num_ques)]) / L)\n",
    "    print(sum([sum(df[\"soft_check_SY\" + str(i + 1)] & df[\"is_easy\" + str(i + 1)]) for i in range(num_ques)]) / L)\n",
    "    print(sum([sum(df[\"soft_check_NY\" + str(i + 1)] & df[\"is_easy\" + str(i + 1)]) for i in range(num_ques)]) / L)\n",
    "\n",
    "    print(\"-\"*20)\n",
    "    \n",
    "    #Accuracy after removing bad hits\n",
    "    \"\"\"\n",
    "    def get_hits_to_keep(df, str1, str2):\n",
    "        df[str1] = True\n",
    "        for i in range(num_ques):\n",
    "            df[str1] &= ~df[\"is_easy\" + str(i + 1)] | df[str2 + str(i + 1)]\n",
    "        return df\n",
    "\n",
    "    df = get_hits_to_keep(df, \"keep\", \"hard_check\")\n",
    "    df = get_hits_to_keep(df, \"keep_SY\", \"soft_check_SY\")            \n",
    "    df = get_hits_to_keep(df, \"keep_NY\", \"soft_check_NY\")\n",
    "    \n",
    "    Lkeep = len(df[df[\"keep\"] == True])\n",
    "    LkeepSY = len(df[df[\"keep_SY\"] == True])\n",
    "\n",
    "    print(Lkeep/21., (sum([ sum(df[\"hard_check\"    + str(i + 1)] & df[\"keep\"])    for i in range(num_ques)]) - Lkeep)   / (4*Lkeep) )\n",
    "    print(LkeepSY/21., (sum([ sum(df[\"soft_check_SY\" + str(i + 1)] & df[\"keep_SY\"]) for i in range(num_ques)]) - LkeepSY) / (4*LkeepSY) )\n",
    "    #print(sum([ sum(df[\"soft_check_NY\" + str(i + 1)] & df[\"keep_NY\"]) for i in range(num_ques)]) - L / (4.*len(df[df[\"keep_NY\"] == True])))"
   ]
  },
  {
   "cell_type": "code",
   "execution_count": 194,
   "metadata": {
    "scrolled": true
   },
   "outputs": [],
   "source": [
    "def prepreprocess(df):\n",
    "    raw_df = pd.read_csv('gold_set_raw.csv')\n",
    "    raw_df.set_index(\"question\", inplace=True)\n",
    "\n",
    "    for i in range(1, num_ques + 1):\n",
    "        df[\"Input.id\" + str(i)] = \"\"\n",
    "\n",
    "    for i in range(1, num_ques + 1):\n",
    "        for hit in range(len(df)):\n",
    "            ques = df[\"Input.question\" + str(i)].iloc[hit]\n",
    "            df.at[hit, \"Input.id\" + str(i)] = raw_df.loc[ques][\"id\"]\n",
    "    return df"
   ]
  },
  {
   "cell_type": "code",
   "execution_count": 195,
   "metadata": {
    "scrolled": false
   },
   "outputs": [
    {
     "name": "stdout",
     "output_type": "stream",
     "text": [
      "15 cents\n",
      "0.8095238095238095 0.6470588235294118\n",
      "0.8095238095238095 0.7352941176470589\n",
      "----------------------------------------\n",
      "12 cents\n",
      "0.5714285714285714 0.4375\n",
      "0.6666666666666666 0.6428571428571429\n",
      "----------------------------------------\n",
      "10 cents\n",
      "0.6666666666666666 0.5535714285714286\n",
      "0.7142857142857143 0.75\n"
     ]
    }
   ],
   "source": [
    "print(\"15 cents\")\n",
    "res_df_15 = pd.read_csv('Batch_3431355_batch_results_15_cents.csv')\n",
    "df_15 = preprocess(ans_df, res_df_15)\n",
    "print_accuracy(df_15)\n",
    "\n",
    "print(\"-\"*40)\n",
    "\n",
    "print(\"12 cents\")\n",
    "res_df_12 = pd.read_csv('Batch_3430899_batch_results_12_cents.csv')\n",
    "res_df_12 = prepreprocess(res_df_12)\n",
    "df_12 = preprocess(ans_df, res_df_12)\n",
    "print_accuracy(df_12)\n",
    "\n",
    "print(\"-\"*40)\n",
    "\n",
    "print(\"10 cents\")\n",
    "res_df_10 = pd.read_csv('Batch_3430691_batch_results_10_cents.csv')\n",
    "res_df_10 = prepreprocess(res_df_10)\n",
    "df_10 = preprocess(ans_df, res_df_10)\n",
    "print_accuracy(df_10)\n",
    "\n"
   ]
  },
  {
   "cell_type": "code",
   "execution_count": 204,
   "metadata": {
    "scrolled": true
   },
   "outputs": [
    {
     "name": "stdout",
     "output_type": "stream",
     "text": [
      "12 cents part 2\n",
      "0.6666666666666666 0.625\n",
      "0.7142857142857143 0.7666666666666667\n",
      "----------------------------------------\n",
      "10 cents part 2\n",
      "0.7619047619047619 0.546875\n",
      "0.8095238095238095 0.6911764705882353\n"
     ]
    }
   ],
   "source": [
    "print(\"12 cents part 2\")\n",
    "res_df_12 = pd.read_csv('Batch_3432093_batch_results_12cents_part2.csv')\n",
    "res_df_12 = prepreprocess(res_df_12)\n",
    "df_12 = preprocess(ans_df, res_df_12)\n",
    "print_accuracy(df_12)\n",
    "\n",
    "print(\"-\"*40)\n",
    "\n",
    "print(\"10 cents part 2\")\n",
    "res_df_10 = pd.read_csv('Batch_3432101_batch_results_10cents_part2.csv')\n",
    "res_df_10 = prepreprocess(res_df_10)\n",
    "df_10 = preprocess(ans_df, res_df_10)\n",
    "print_accuracy(df_10)"
   ]
  },
  {
   "cell_type": "code",
   "execution_count": 197,
   "metadata": {},
   "outputs": [],
   "source": [
    "df1 = pd.read_csv('data/electronics_10000.csv')\n",
    "df2 = pd.read_csv('data/easy_data.csv')"
   ]
  },
  {
   "cell_type": "code",
   "execution_count": 198,
   "metadata": {},
   "outputs": [
    {
     "data": {
      "text/plain": [
       "Index(['Unnamed: 0', 'id', 'question', 'review0', 'review1', 'review2',\n",
       "       'review3', 'review4'],\n",
       "      dtype='object')"
      ]
     },
     "execution_count": 198,
     "metadata": {},
     "output_type": "execute_result"
    }
   ],
   "source": [
    "df1.columns"
   ]
  },
  {
   "cell_type": "code",
   "execution_count": 199,
   "metadata": {},
   "outputs": [
    {
     "data": {
      "text/plain": [
       "Index(['id', 'question', 'is_answerable', 'relevant_snippets', 'Snippet1',\n",
       "       'Snippet2', 'Snippet3', 'Snippet4', 'Snippet5'],\n",
       "      dtype='object')"
      ]
     },
     "execution_count": 199,
     "metadata": {},
     "output_type": "execute_result"
    }
   ],
   "source": [
    "df2.columns"
   ]
  },
  {
   "cell_type": "code",
   "execution_count": 202,
   "metadata": {},
   "outputs": [
    {
     "data": {
      "text/plain": [
       "RangeIndex(start=0, stop=9, step=1)"
      ]
     },
     "execution_count": 202,
     "metadata": {},
     "output_type": "execute_result"
    }
   ],
   "source": [
    "df2.index"
   ]
  },
  {
   "cell_type": "code",
   "execution_count": null,
   "metadata": {},
   "outputs": [],
   "source": []
  }
 ],
 "metadata": {
  "kernelspec": {
   "display_name": "Python 3",
   "language": "python",
   "name": "python3"
  },
  "language_info": {
   "codemirror_mode": {
    "name": "ipython",
    "version": 3
   },
   "file_extension": ".py",
   "mimetype": "text/x-python",
   "name": "python",
   "nbconvert_exporter": "python",
   "pygments_lexer": "ipython3",
   "version": "3.6.2"
  }
 },
 "nbformat": 4,
 "nbformat_minor": 2
}
