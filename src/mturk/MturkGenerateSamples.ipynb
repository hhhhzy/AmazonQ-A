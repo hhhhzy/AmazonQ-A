{
 "cells": [
  {
   "cell_type": "code",
   "execution_count": 31,
   "metadata": {},
   "outputs": [],
   "source": [
    "import pandas as pd"
   ]
  },
  {
   "cell_type": "code",
   "execution_count": 32,
   "metadata": {},
   "outputs": [],
   "source": [
    "df = pd.read_csv('samples/all_1000_batch1_final.csv')"
   ]
  },
  {
   "cell_type": "code",
   "execution_count": 33,
   "metadata": {},
   "outputs": [],
   "source": [
    "def get_vals(col):\n",
    "    return [v for v in df[col].values if '(' not in v]\n",
    "\n",
    "all_vals = get_vals('id1') + get_vals('id2') + get_vals('id3') + get_vals('id4') + get_vals('id5')"
   ]
  },
  {
   "cell_type": "code",
   "execution_count": 34,
   "metadata": {},
   "outputs": [],
   "source": [
    "all_vals = list(map(int, all_vals))\n",
    "all_vals = set(all_vals)"
   ]
  },
  {
   "cell_type": "code",
   "execution_count": 35,
   "metadata": {},
   "outputs": [
    {
     "name": "stderr",
     "output_type": "stream",
     "text": [
      "/Users/nitish/miniconda2/envs/py3/lib/python3.6/site-packages/IPython/core/interactiveshell.py:2728: DtypeWarning: Columns (1) have mixed types. Specify dtype option on import or set low_memory=False.\n",
      "  interactivity=interactivity, compiler=compiler, result=result)\n"
     ]
    }
   ],
   "source": [
    "df2 = pd.read_csv('samples/train-qar_sample_100000.csv')"
   ]
  },
  {
   "cell_type": "code",
   "execution_count": 36,
   "metadata": {},
   "outputs": [
    {
     "data": {
      "text/plain": [
       "43"
      ]
     },
     "execution_count": 36,
     "metadata": {},
     "output_type": "execute_result"
    }
   ],
   "source": [
    "df2.id.apply(lambda x: x in all_vals).sum()"
   ]
  },
  {
   "cell_type": "code",
   "execution_count": 37,
   "metadata": {},
   "outputs": [],
   "source": [
    "ids1 = df2.id[df2.id.apply(lambda x: x in all_vals)].values\n",
    "ids2 = df2.head(10000).id[df2.id.apply(lambda x: x not in all_vals)].values\n",
    "all_ids = list(ids1) + list(ids2)"
   ]
  },
  {
   "cell_type": "code",
   "execution_count": 38,
   "metadata": {},
   "outputs": [],
   "source": [
    "all_ids = set(all_ids)\n",
    "df3 = df2[df2.id.apply(lambda x: x in all_ids)]"
   ]
  },
  {
   "cell_type": "code",
   "execution_count": 10,
   "metadata": {},
   "outputs": [
    {
     "data": {
      "text/plain": [
       "783"
      ]
     },
     "execution_count": 10,
     "metadata": {},
     "output_type": "execute_result"
    }
   ],
   "source": [
    "df3 = df3[df3.category != 'Electronics']\n",
    "len(df3)"
   ]
  },
  {
   "cell_type": "code",
   "execution_count": 43,
   "metadata": {},
   "outputs": [],
   "source": [
    "df4 = df3[df3.id.apply(lambda x: x in ids1)]"
   ]
  },
  {
   "cell_type": "code",
   "execution_count": 44,
   "metadata": {},
   "outputs": [],
   "source": [
    "# df4.to_csv('new_31.csv')"
   ]
  },
  {
   "cell_type": "code",
   "execution_count": 45,
   "metadata": {},
   "outputs": [],
   "source": [
    "df5 = df3[df3.id.apply(lambda x: x in ids2)]\n",
    "# df5.head(69).to_csv('new_69.csv')"
   ]
  },
  {
   "cell_type": "code",
   "execution_count": 46,
   "metadata": {},
   "outputs": [],
   "source": [
    "new_df = df5.iloc[200:]"
   ]
  },
  {
   "cell_type": "code",
   "execution_count": 47,
   "metadata": {},
   "outputs": [
    {
     "data": {
      "text/plain": [
       "9800"
      ]
     },
     "execution_count": 47,
     "metadata": {},
     "output_type": "execute_result"
    }
   ],
   "source": [
    "len(new_df)"
   ]
  },
  {
   "cell_type": "code",
   "execution_count": 48,
   "metadata": {},
   "outputs": [
    {
     "data": {
      "text/plain": [
       "7681"
      ]
     },
     "execution_count": 48,
     "metadata": {},
     "output_type": "execute_result"
    }
   ],
   "source": [
    "new_df = new_df[new_df.review2.notnull()]\n",
    "len(new_df)"
   ]
  },
  {
   "cell_type": "code",
   "execution_count": 49,
   "metadata": {},
   "outputs": [],
   "source": [
    "new_df.iloc[:200].to_csv('samples/raghu_easy_all_200.csv')\n",
    "new_df.iloc[200:400].to_csv('samples/nitish_easy_all_200.csv')\n",
    "new_df.iloc[400:600].to_csv('samples/mansi_easy_all_200.csv')\n",
    "new_df.iloc[600:800].to_csv('samples/rc_easy_all_200.csv')"
   ]
  },
  {
   "cell_type": "code",
   "execution_count": 29,
   "metadata": {},
   "outputs": [],
   "source": [
    "import numpy as np\n",
    "\n",
    "random_ids = np.random.permutation(np.arange(100000))[:200]"
   ]
  },
  {
   "cell_type": "code",
   "execution_count": 30,
   "metadata": {},
   "outputs": [
    {
     "data": {
      "text/plain": [
       "array([ 2875, 16360, 60904, 33692, 87847, 34686, 51516, 39892, 54101,\n",
       "        4840, 51066, 96531, 64896,  7837, 22398, 14165, 43884, 12500,\n",
       "       60713, 64031, 74961, 53010,  5130, 99828, 92141, 67215, 99847,\n",
       "       46831, 77201,  9933, 55612, 44911, 84704, 79532, 38265, 88302,\n",
       "       15149, 84026, 23853, 84508, 76435, 80232, 38812, 65806, 24331,\n",
       "       14630, 47552, 12895,   701, 95811, 31634, 29357, 85778, 90978,\n",
       "       79141, 83190, 14837,  2139, 24850, 46309, 52559, 56630, 48129,\n",
       "       64292, 60358, 86026, 79106,  9371, 77375, 22140, 51284, 21087,\n",
       "       36618, 42289, 74430, 85815,  5771, 85676,  9115, 77172, 11542,\n",
       "       46367, 92503, 85944, 18065, 81046, 28174,  6723, 69033, 90460,\n",
       "       68160, 33868, 58194, 15732, 75808, 87465, 17271, 38135, 59166,\n",
       "       24149, 31757, 20162, 46762, 69064, 30346, 35984, 26440, 81043,\n",
       "       34400, 35672, 25141,  4652, 37568, 64669, 39583, 36921, 13899,\n",
       "       43496, 33034, 38331, 37716, 32251, 94897, 24668, 55040, 14538,\n",
       "       65532, 30767, 32269, 12523, 26022, 87038,  5252, 74319, 16159,\n",
       "       67729, 57145, 77472, 77487,  2034, 83133, 18868,  2519, 16548,\n",
       "       79136,  9082, 67780, 52790, 90406, 81896, 33825, 55311, 80400,\n",
       "       76717, 76888,  2664,  1744, 79865, 40363, 34778, 53034, 29501,\n",
       "       58401, 17845, 87279, 58378,  4069, 82399, 26460, 12202, 42957,\n",
       "       88036, 89556, 46493, 94715, 92881, 61760,  3278, 71279, 51854,\n",
       "       13779, 50943, 55540, 89812, 50926, 36125, 60185, 81021, 16580,\n",
       "        4213, 37320, 57420,  7424, 27918, 38098, 31244, 30586, 44630,\n",
       "       23843, 63056])"
      ]
     },
     "execution_count": 30,
     "metadata": {},
     "output_type": "execute_result"
    }
   ],
   "source": [
    "df2.iloc"
   ]
  },
  {
   "cell_type": "code",
   "execution_count": null,
   "metadata": {},
   "outputs": [],
   "source": []
  }
 ],
 "metadata": {
  "kernelspec": {
   "display_name": "Python 3",
   "language": "python",
   "name": "python3"
  },
  "language_info": {
   "codemirror_mode": {
    "name": "ipython",
    "version": 3
   },
   "file_extension": ".py",
   "mimetype": "text/x-python",
   "name": "python",
   "nbconvert_exporter": "python",
   "pygments_lexer": "ipython3",
   "version": "3.6.2"
  }
 },
 "nbformat": 4,
 "nbformat_minor": 2
}
