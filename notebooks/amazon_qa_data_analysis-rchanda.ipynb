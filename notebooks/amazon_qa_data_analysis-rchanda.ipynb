{
 "cells": [
  {
   "cell_type": "markdown",
   "metadata": {},
   "source": [
    "# Dataset"
   ]
  },
  {
   "cell_type": "code",
   "execution_count": 1,
   "metadata": {},
   "outputs": [],
   "source": [
    "data_dir = \"/Users/rchanda/Acads/Fall-2018/Capstone/Explicable-Question-Answering/data/\"\n",
    "category = \"Baby\""
   ]
  },
  {
   "cell_type": "code",
   "execution_count": 2,
   "metadata": {},
   "outputs": [],
   "source": [
    "import numpy as np"
   ]
  },
  {
   "cell_type": "code",
   "execution_count": 3,
   "metadata": {},
   "outputs": [],
   "source": [
    "run /Users/rchanda/Acads/Fall-2018/Capstone/Explicable-Question-Answering/src/prepro/preprocess_data.py"
   ]
  },
  {
   "cell_type": "code",
   "execution_count": null,
   "metadata": {},
   "outputs": [],
   "source": [
    "qa_url_prefix = 'http://jmcauley.ucsd.edu/data/amazon/qa/icdm/QA_'\n",
    "download_data(data_dir, category, qa_url_prefix)"
   ]
  },
  {
   "cell_type": "code",
   "execution_count": 11,
   "metadata": {},
   "outputs": [
    {
     "name": "stderr",
     "output_type": "stream",
     "text": [
      "3754it [00:04, 771.80it/s]\n"
     ]
    }
   ],
   "source": [
    "qa_df = clean_qa_data(data_dir, category)"
   ]
  },
  {
   "cell_type": "code",
   "execution_count": 12,
   "metadata": {},
   "outputs": [
    {
     "name": "stdout",
     "output_type": "stream",
     "text": [
      "\"{\\\"asin\\\":\\\"B0000488W2\\\",\\\"questions\\\":[{\\\"questionText\\\":\\\"Will this keep a strong 6 year old out of my cabinets? He has special needs and feels that he can open my cabinets and dump whatever on the floor. I am looking for something that would prevent him to get in my cabinets.\\\",\\\"questionType\\\":\\\"descriptive\\\",\\\"answers\\\":[{\\\"answerText\\\":\\\"Yes, the locks will keep adults out too.  My huband installed the locks and, as other reviewers stated, they can be a pain to install.  Very important to remember: KEEP TRACK OF THE MAGNETIC KEY!!! Or, buy an extra one.  We found out that our key did work even though it was melted a little (was left on top of hot stove for a few minutes).All-in-all, I believe these locks were well worth the money.\\\",\\\"answerType\\\":\\\"NA\\\",\\\"helpful\\\":[1,1]},{\\\"answerText\\\":\\\"Yes if you install it correctly.  a lot of folks don't bother to pre drill and set the screws correctly.\\\",\\\"answerType\\\":\\\"NA\\\",\\\"helpful\\\":[0,0]},{\\\"answerText\\\":\\\"It probably will...  it's pretty good and much better than those locks for drawers you can buy at baby stores.  But it's still plastic so depending on how strong he is, he might break it.  You'll also need to keep the magnetic key away from him as he'll see you using it and likely learn.  My 3 year old tries but he doesn't know the exact spot to put the key to unlock the door.  Overall after trying several locks for cabinet doors this was the best in my opinion.  But also the hardest to install so as long as you plan and execute well according to instructions it will be fine.\\\",\\\"answerType\\\":\\\"NA\\\",\\\"helpful\\\":[0,0]}]},{\\\"questionText\\\":\\\"What's the difference between this and the regular locking set (not the \\\\\\\"tot lok\\\\\\\" set)?\\\",\\\"questionType\\\":\\\"descriptive\\\",\\\"answers\\\":[{\\\"answerText\\\":\\\"The size of the locking mechanism. I bought these so they could be used with the drawers in my kitchen--the other one I looked at wouldn't fit my drawers.\\\",\\\"answerType\\\":\\\"NA\\\",\\\"helpful\\\":[0,0]},{\\\"answerText\\\":\\\"The locking mechanism unlocks with the magnet .\\\",\\\"answerType\\\":\\\"NA\\\",\\\"helpful\\\":[0,0]}]},{\\\"questionText\\\":\\\"I have these locks on my cabinets and love them! Do they work on kitchen drawers?\\\",\\\"questionType\\\":\\\"descriptive\\\",\\\"answers\\\":[{\\\"answerText\\\":\\\"Yes, I have them in cabinets and drawers. They work exactly the same as the doors\\\",\\\"answerType\\\":\\\"NA\\\",\\\"helpful\\\":[0,0]},{\\\"answerText\\\":\\\"Yes. They install on drawers just like on doors.\\\",\\\"answerType\\\":\\\"NA\\\",\\\"helpful\\\":[0,0]}]},{\\\"questionText\\\":\\\"Safety 1st Magnetic Tot Lok Deluxe Starter Set: Do these locks work on glass doors of the kitchen?\\\",\\\"questionType\\\":\\\"descriptive\\\",\\\"answers\\\":[{\\\"answerText\\\":\\\"You must have some type of wood or some other way to affix the locks to your cabinetry. You might be able to with some very strong adhesive but screwing into wood is perhaps the best\\\",\\\"answerType\\\":\\\"NA\\\",\\\"helpful\\\":[0,0]},{\\\"answerText\\\":\\\"Unless the doors have a wooden frame (not too thick, ideal about 1 inch), don't think these will work\\\",\\\"answerType\\\":\\\"NA\\\",\\\"helpful\\\":[0,0]}]},{\\\"questionText\\\":\\\"I seem to have misplaced my magnet.  Is there a way to buy just it.\\\",\\\"questionType\\\":\\\"descriptive\\\",\\\"answers\\\":[{\\\"answerText\\\":\\\"Any decent magnet from Radio Shack will work.  I glued one to a locket sized frame that was stuck to the fridge when it wasn't being used.  However, Amazon sells a replacement if you want to keep it original: Safety 1st Magnetic Locking System Key\\\",\\\"answerType\\\":\\\"NA\\\",\\\"helpful\\\":[0,0]},{\\\"answerText\\\":\\\"Yes you can buy just the tot lok magnet key Safety 1st Tot-Lok Magnetic Key (Discontinued by Manufacturer)\\\",\\\"answerType\\\":\\\"NA\\\",\\\"helpful\\\":[0,0]}]}]}\"\n"
     ]
    }
   ],
   "source": [
    "for (_, row) in qa_df.iterrows():\n",
    "    print(json.dumps(row.to_json()))\n",
    "    break"
   ]
  },
  {
   "cell_type": "code",
   "execution_count": null,
   "metadata": {},
   "outputs": [],
   "source": [
    "review_url_prefix = 'http://snap.stanford.edu/data/amazon/productGraph/categoryFiles/reviews_'\n",
    "download_data(data_dir, category, review_url_prefix)"
   ]
  },
  {
   "cell_type": "code",
   "execution_count": 5,
   "metadata": {},
   "outputs": [
    {
     "name": "stderr",
     "output_type": "stream",
     "text": [
      "3447249it [06:26, 8915.33it/s] \n"
     ]
    }
   ],
   "source": [
    "reviews_df = clean_review_data(data_dir, category)"
   ]
  },
  {
   "cell_type": "code",
   "execution_count": 6,
   "metadata": {},
   "outputs": [
    {
     "data": {
      "text/plain": [
       "319678"
      ]
     },
     "execution_count": 6,
     "metadata": {},
     "output_type": "execute_result"
    }
   ],
   "source": [
    "len(reviews_df)"
   ]
  },
  {
   "cell_type": "code",
   "execution_count": 7,
   "metadata": {},
   "outputs": [],
   "source": [
    "qa_reviews_df = pd.merge(qa_df, reviews_df, on=['asin', 'asin'])"
   ]
  },
  {
   "cell_type": "code",
   "execution_count": 8,
   "metadata": {},
   "outputs": [
    {
     "data": {
      "text/plain": [
       "8969"
      ]
     },
     "execution_count": 8,
     "metadata": {},
     "output_type": "execute_result"
    }
   ],
   "source": [
    "len(qa_reviews_df)"
   ]
  },
  {
   "cell_type": "code",
   "execution_count": null,
   "metadata": {},
   "outputs": [],
   "source": [
    "output_path =  \"%s/qar_products_%s.jsonl\" % (data_dir, category)\n",
    "qa_reviews_df.to_json(output_path, orient='records', lines=True)"
   ]
  },
  {
   "cell_type": "code",
   "execution_count": null,
   "metadata": {},
   "outputs": [],
   "source": []
  },
  {
   "cell_type": "code",
   "execution_count": null,
   "metadata": {},
   "outputs": [],
   "source": [
    "length = len(reviews_df)\n",
    "\n",
    "indexes = np.array(range(0, length))\n",
    "\n",
    "train = (int)(length*50.0/100)\n",
    "val = (int)(length*50.0/100)\n",
    "\n",
    "reviews_df1 = reviews_df.iloc[indexes[0 : train]]\n",
    "reviews_df2 = reviews_df.iloc[indexes[train : train+val]]"
   ]
  },
  {
   "cell_type": "code",
   "execution_count": null,
   "metadata": {},
   "outputs": [],
   "source": [
    "qa_reviews_df = pd.concat([qa_reviews_df1, qa_reviews_df2])"
   ]
  },
  {
   "cell_type": "code",
   "execution_count": null,
   "metadata": {},
   "outputs": [],
   "source": [
    "output_path =  \"%s/qar_products_%s.jsonl\" % (data_dir, category)\n",
    "qa_reviews_df.to_json(output_path, orient='records', lines=True)"
   ]
  }
 ],
 "metadata": {
  "kernelspec": {
   "display_name": "Python 3",
   "language": "python",
   "name": "python3"
  },
  "language_info": {
   "codemirror_mode": {
    "name": "ipython",
    "version": 3
   },
   "file_extension": ".py",
   "mimetype": "text/x-python",
   "name": "python",
   "nbconvert_exporter": "python",
   "pygments_lexer": "ipython3",
   "version": "3.6.4"
  }
 },
 "nbformat": 4,
 "nbformat_minor": 2
}
