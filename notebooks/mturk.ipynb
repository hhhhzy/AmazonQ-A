{
 "cells": [
  {
   "cell_type": "code",
   "execution_count": 1,
   "metadata": {},
   "outputs": [],
   "source": [
    "import pandas as pd\n",
    "df = pd.read_csv('mturk_2000.csv')"
   ]
  },
  {
   "cell_type": "code",
   "execution_count": 2,
   "metadata": {},
   "outputs": [
    {
     "data": {
      "text/html": [
       "<div>\n",
       "<style scoped>\n",
       "    .dataframe tbody tr th:only-of-type {\n",
       "        vertical-align: middle;\n",
       "    }\n",
       "\n",
       "    .dataframe tbody tr th {\n",
       "        vertical-align: top;\n",
       "    }\n",
       "\n",
       "    .dataframe thead th {\n",
       "        text-align: right;\n",
       "    }\n",
       "</style>\n",
       "<table border=\"1\" class=\"dataframe\">\n",
       "  <thead>\n",
       "    <tr style=\"text-align: right;\">\n",
       "      <th></th>\n",
       "      <th>Sl No</th>\n",
       "      <th>IDs (RowId, QuestionId, AnswerId)</th>\n",
       "      <th>Question</th>\n",
       "      <th>Reviews</th>\n",
       "      <th>Answer From Reviews</th>\n",
       "      <th>Actual answer</th>\n",
       "    </tr>\n",
       "  </thead>\n",
       "  <tbody>\n",
       "    <tr>\n",
       "      <th>0</th>\n",
       "      <td>0</td>\n",
       "      <td>(2012,3,6)</td>\n",
       "      <td>Can i fold these Headphones?</td>\n",
       "      <td>1) Just to clear up a few things, these headph...</td>\n",
       "      <td>NaN</td>\n",
       "      <td>No. But mine only produced the instrumental so...</td>\n",
       "    </tr>\n",
       "    <tr>\n",
       "      <th>1</th>\n",
       "      <td>1</td>\n",
       "      <td>(4524,5,0)</td>\n",
       "      <td>Can you stand the Nexus 7 gen 2 in portrait po...</td>\n",
       "      <td>1) I remember when the iPad 2 came out, and St...</td>\n",
       "      <td>NaN</td>\n",
       "      <td>Yes you can stand it up in portrait or landsca...</td>\n",
       "    </tr>\n",
       "    <tr>\n",
       "      <th>2</th>\n",
       "      <td>2</td>\n",
       "      <td>(1019,1,7)</td>\n",
       "      <td>a) Does anyone have an iPhone 4 and/or iPad mi...</td>\n",
       "      <td>1) I would give this a 4+ if it were not for t...</td>\n",
       "      <td>NaN</td>\n",
       "      <td>I only have an ipad3 and they work well with t...</td>\n",
       "    </tr>\n",
       "    <tr>\n",
       "      <th>3</th>\n",
       "      <td>3</td>\n",
       "      <td>(3656,2,4)</td>\n",
       "      <td>Is this 3 speed or 2 speed?</td>\n",
       "      <td>1) I couldn't be happier so far with this purc...</td>\n",
       "      <td>NaN</td>\n",
       "      <td>2 speed. 33 &amp; 45</td>\n",
       "    </tr>\n",
       "    <tr>\n",
       "      <th>4</th>\n",
       "      <td>4</td>\n",
       "      <td>(3817,0,1)</td>\n",
       "      <td>would anybody know is these are better than th...</td>\n",
       "      <td>1) Had these just over a month, used with my p...</td>\n",
       "      <td>NaN</td>\n",
       "      <td>100% better I would never recommend Sols to an...</td>\n",
       "    </tr>\n",
       "  </tbody>\n",
       "</table>\n",
       "</div>"
      ],
      "text/plain": [
       "   Sl No IDs (RowId, QuestionId, AnswerId)  \\\n",
       "0      0                        (2012,3,6)   \n",
       "1      1                        (4524,5,0)   \n",
       "2      2                        (1019,1,7)   \n",
       "3      3                        (3656,2,4)   \n",
       "4      4                        (3817,0,1)   \n",
       "\n",
       "                                            Question  \\\n",
       "0                       Can i fold these Headphones?   \n",
       "1  Can you stand the Nexus 7 gen 2 in portrait po...   \n",
       "2  a) Does anyone have an iPhone 4 and/or iPad mi...   \n",
       "3                        Is this 3 speed or 2 speed?   \n",
       "4  would anybody know is these are better than th...   \n",
       "\n",
       "                                             Reviews  Answer From Reviews  \\\n",
       "0  1) Just to clear up a few things, these headph...                  NaN   \n",
       "1  1) I remember when the iPad 2 came out, and St...                  NaN   \n",
       "2  1) I would give this a 4+ if it were not for t...                  NaN   \n",
       "3  1) I couldn't be happier so far with this purc...                  NaN   \n",
       "4  1) Had these just over a month, used with my p...                  NaN   \n",
       "\n",
       "                                       Actual answer  \n",
       "0  No. But mine only produced the instrumental so...  \n",
       "1  Yes you can stand it up in portrait or landsca...  \n",
       "2  I only have an ipad3 and they work well with t...  \n",
       "3                                   2 speed. 33 & 45  \n",
       "4  100% better I would never recommend Sols to an...  "
      ]
     },
     "execution_count": 2,
     "metadata": {},
     "output_type": "execute_result"
    }
   ],
   "source": [
    "df.head()"
   ]
  },
  {
   "cell_type": "code",
   "execution_count": 36,
   "metadata": {},
   "outputs": [],
   "source": [
    "df['Reviews'] = df['Reviews'].str.split('[1-5]\\) ')"
   ]
  },
  {
   "cell_type": "code",
   "execution_count": 37,
   "metadata": {},
   "outputs": [
    {
     "data": {
      "text/plain": [
       "['',\n",
       " \"Just to clear up a few things, these headphones resemble full-size headphones that fully surround the ear -- circumaural, as claimed -- but they actually sit on top of adult ears. They're fairly large, but nevertheless, they are kid headphones. And for that purpose, they do fine.\\n\",\n",
       " 'I learned quickly that this is a somewhat common issue with ipads due to the design of the headphone input. And $100+ is a standard repair charge to have it removed. Looking at other more durable headphones, it does seem that this is strike against these where the cheapness of the material caught up with us, so I felt compelled to warn others to take this into account when looking at these.\\n',\n",
       " \"I bought these for my Niece for her B-Day and who I babysit quite often, she always wants to borrow my Soul's by Ludacris OTE Headphones and there is no way that was going to happen. Like most people, when at home or just in a Private Setting, Over the Ear Headphones are just so much more Comfortable than Ear buds that get irritating very quickly.\\n\",\n",
       " 'New dance trax might have to be adjusted significantly lower, as does some current heavy metal.Other than that, I cannot say enough about how great these headphones are! They have a beautiful bright sound - they are exciting to listen to and make me feel very up.  So, I generally put these on in the early a.m. while I am out walking the dog. A great way to start a day.\\n',\n",
       " 'So I did some Preventative Actions while I had the headphones apart. I taped the inner foam sections all the way around on the inside which is very thin to stop the pulling from taking them on and off to stay in place on both sides. I also Super Glued the wires on the inside from ripping away from the speakers on the inside from normal wear and tear to just make them last Hopefully a while longer.']"
      ]
     },
     "execution_count": 37,
     "metadata": {},
     "output_type": "execute_result"
    }
   ],
   "source": [
    "df['Reviews'].head()[0]"
   ]
  },
  {
   "cell_type": "code",
   "execution_count": 41,
   "metadata": {},
   "outputs": [
    {
     "data": {
      "text/plain": [
       "0    [, Just to clear up a few things, these headph...\n",
       "1    [, I remember when the iPad 2 came out, and St...\n",
       "2    [, I would give this a 4+ if it were not for t...\n",
       "3    [, I couldn't be happier so far with this purc...\n",
       "4    [, Had these just over a month, used with my p...\n",
       "Name: Reviews, dtype: object"
      ]
     },
     "execution_count": 41,
     "metadata": {},
     "output_type": "execute_result"
    }
   ],
   "source": [
    "df.Reviews.head()"
   ]
  },
  {
   "cell_type": "code",
   "execution_count": 44,
   "metadata": {},
   "outputs": [
    {
     "data": {
      "text/plain": [
       "[\"Just to clear up a few things, these headphones resemble full-size headphones that fully surround the ear -- circumaural, as claimed -- but they actually sit on top of adult ears. They're fairly large, but nevertheless, they are kid headphones. And for that purpose, they do fine.\\n\",\n",
       " 'I learned quickly that this is a somewhat common issue with ipads due to the design of the headphone input. And $100+ is a standard repair charge to have it removed. Looking at other more durable headphones, it does seem that this is strike against these where the cheapness of the material caught up with us, so I felt compelled to warn others to take this into account when looking at these.\\n',\n",
       " \"I bought these for my Niece for her B-Day and who I babysit quite often, she always wants to borrow my Soul's by Ludacris OTE Headphones and there is no way that was going to happen. Like most people, when at home or just in a Private Setting, Over the Ear Headphones are just so much more Comfortable than Ear buds that get irritating very quickly.\\n\",\n",
       " 'New dance trax might have to be adjusted significantly lower, as does some current heavy metal.Other than that, I cannot say enough about how great these headphones are! They have a beautiful bright sound - they are exciting to listen to and make me feel very up.  So, I generally put these on in the early a.m. while I am out walking the dog. A great way to start a day.\\n',\n",
       " 'So I did some Preventative Actions while I had the headphones apart. I taped the inner foam sections all the way around on the inside which is very thin to stop the pulling from taking them on and off to stay in place on both sides. I also Super Glued the wires on the inside from ripping away from the speakers on the inside from normal wear and tear to just make them last Hopefully a while longer.']"
      ]
     },
     "execution_count": 44,
     "metadata": {},
     "output_type": "execute_result"
    }
   ],
   "source": [
    "df.Reviews[0][1:]"
   ]
  },
  {
   "cell_type": "code",
   "execution_count": 48,
   "metadata": {},
   "outputs": [
    {
     "name": "stderr",
     "output_type": "stream",
     "text": [
      "/Library/Frameworks/Python.framework/Versions/3.6/lib/python3.6/site-packages/ipykernel_launcher.py:2: SettingWithCopyWarning: \n",
      "A value is trying to be set on a copy of a slice from a DataFrame\n",
      "\n",
      "See the caveats in the documentation: http://pandas.pydata.org/pandas-docs/stable/indexing.html#indexing-view-versus-copy\n",
      "  \n"
     ]
    },
    {
     "ename": "TypeError",
     "evalue": "'float' object is not subscriptable",
     "output_type": "error",
     "traceback": [
      "\u001b[0;31m---------------------------------------------------------------------------\u001b[0m",
      "\u001b[0;31mTypeError\u001b[0m                                 Traceback (most recent call last)",
      "\u001b[0;32m<ipython-input-48-1d247a4d0b54>\u001b[0m in \u001b[0;36m<module>\u001b[0;34m()\u001b[0m\n\u001b[1;32m      1\u001b[0m \u001b[0;32mfor\u001b[0m \u001b[0mi\u001b[0m \u001b[0;32min\u001b[0m \u001b[0mrange\u001b[0m\u001b[0;34m(\u001b[0m\u001b[0mlen\u001b[0m\u001b[0;34m(\u001b[0m\u001b[0mdf\u001b[0m\u001b[0;34m)\u001b[0m\u001b[0;34m)\u001b[0m\u001b[0;34m:\u001b[0m\u001b[0;34m\u001b[0m\u001b[0m\n\u001b[0;32m----> 2\u001b[0;31m     \u001b[0mdf\u001b[0m\u001b[0;34m.\u001b[0m\u001b[0mReviews\u001b[0m\u001b[0;34m[\u001b[0m\u001b[0mi\u001b[0m\u001b[0;34m]\u001b[0m \u001b[0;34m=\u001b[0m \u001b[0mdf\u001b[0m\u001b[0;34m.\u001b[0m\u001b[0mReviews\u001b[0m\u001b[0;34m[\u001b[0m\u001b[0mi\u001b[0m\u001b[0;34m]\u001b[0m\u001b[0;34m[\u001b[0m\u001b[0;36m1\u001b[0m\u001b[0;34m:\u001b[0m\u001b[0;34m]\u001b[0m\u001b[0;34m\u001b[0m\u001b[0m\n\u001b[0m",
      "\u001b[0;31mTypeError\u001b[0m: 'float' object is not subscriptable"
     ]
    }
   ],
   "source": [
    "for i in range(len(df)):\n",
    "    df.Reviews[i] = df.Reviews[i][1:]"
   ]
  },
  {
   "cell_type": "code",
   "execution_count": 50,
   "metadata": {},
   "outputs": [
    {
     "data": {
      "text/plain": [
       "['I learned quickly that this is a somewhat common issue with ipads due to the design of the headphone input. And $100+ is a standard repair charge to have it removed. Looking at other more durable headphones, it does seem that this is strike against these where the cheapness of the material caught up with us, so I felt compelled to warn others to take this into account when looking at these.\\n',\n",
       " \"I bought these for my Niece for her B-Day and who I babysit quite often, she always wants to borrow my Soul's by Ludacris OTE Headphones and there is no way that was going to happen. Like most people, when at home or just in a Private Setting, Over the Ear Headphones are just so much more Comfortable than Ear buds that get irritating very quickly.\\n\",\n",
       " 'New dance trax might have to be adjusted significantly lower, as does some current heavy metal.Other than that, I cannot say enough about how great these headphones are! They have a beautiful bright sound - they are exciting to listen to and make me feel very up.  So, I generally put these on in the early a.m. while I am out walking the dog. A great way to start a day.\\n',\n",
       " 'So I did some Preventative Actions while I had the headphones apart. I taped the inner foam sections all the way around on the inside which is very thin to stop the pulling from taking them on and off to stay in place on both sides. I also Super Glued the wires on the inside from ripping away from the speakers on the inside from normal wear and tear to just make them last Hopefully a while longer.']"
      ]
     },
     "execution_count": 50,
     "metadata": {},
     "output_type": "execute_result"
    }
   ],
   "source": [
    "df.Reviews[0][1:]"
   ]
  },
  {
   "cell_type": "code",
   "execution_count": null,
   "metadata": {},
   "outputs": [],
   "source": []
  }
 ],
 "metadata": {
  "kernelspec": {
   "display_name": "Python 3",
   "language": "python",
   "name": "python3"
  },
  "language_info": {
   "codemirror_mode": {
    "name": "ipython",
    "version": 3
   },
   "file_extension": ".py",
   "mimetype": "text/x-python",
   "name": "python",
   "nbconvert_exporter": "python",
   "pygments_lexer": "ipython3",
   "version": "3.6.2"
  }
 },
 "nbformat": 4,
 "nbformat_minor": 2
}
