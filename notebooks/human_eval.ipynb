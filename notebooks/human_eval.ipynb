{
 "cells": [
  {
   "cell_type": "code",
   "execution_count": 58,
   "metadata": {},
   "outputs": [],
   "source": [
    "import pandas as pd\n",
    "import numpy as np\n",
    "import json"
   ]
  },
  {
   "cell_type": "code",
   "execution_count": 59,
   "metadata": {},
   "outputs": [],
   "source": [
    "df = pd.read_csv('../data/span_annotations.csv')"
   ]
  },
  {
   "cell_type": "code",
   "execution_count": 60,
   "metadata": {},
   "outputs": [],
   "source": [
    "preds_file1 = open(\"../data/predictions1.jsonl\", 'w')\n",
    "preds_file2 = open(\"../data/predictions2.jsonl\", 'w')\n",
    "refs_file1 = open(\"../data/references1.jsonl\", 'w')\n",
    "refs_file2 = open(\"../data/references2.jsonl\", 'w')"
   ]
  },
  {
   "cell_type": "code",
   "execution_count": 61,
   "metadata": {},
   "outputs": [],
   "source": [
    "for index, row in df.iterrows():\n",
    "    reference_answers = []\n",
    "    answers = row['answers'].strip().split(\"\\n\")\n",
    "    for i, ans in enumerate(answers):\n",
    "        id = str(i+1) + ')'\n",
    "        assert (id == ans[0:len(id)])\n",
    "        reference_answers.append(ans[len(id):])\n",
    "    ref_json = {\"qid\": index, \"answers\": reference_answers}\n",
    "    \n",
    "    if row[\"generated_answers\"] is not np.nan:\n",
    "        generated_answers = [row[\"generated_answers\"]]\n",
    "        gen_json = {\"qid\": index, \"answers\":generated_answers}\n",
    "        preds_file1.write(json.dumps(gen_json) + '\\n')\n",
    "        refs_file1.write(json.dumps(ref_json) + '\\n')\n",
    "    \n",
    "    if row[\"human_spans\"] is not np.nan and row[\"human_spans\"] != '-':\n",
    "        human_answers = [row[\"human_spans\"]]\n",
    "        human_json = {\"qid\": index, \"answers\":human_answers}\n",
    "        preds_file2.write(json.dumps(human_json) + '\\n')\n",
    "        refs_file2.write(json.dumps(ref_json) + '\\n')"
   ]
  },
  {
   "cell_type": "code",
   "execution_count": 62,
   "metadata": {},
   "outputs": [],
   "source": [
    "preds_file1.close()\n",
    "preds_file2.close()\n",
    "\n",
    "refs_file1.close()\n",
    "refs_file2.close()"
   ]
  },
  {
   "cell_type": "code",
   "execution_count": null,
   "metadata": {},
   "outputs": [],
   "source": []
  }
 ],
 "metadata": {
  "kernelspec": {
   "display_name": "Python 3",
   "language": "python",
   "name": "python3"
  },
  "language_info": {
   "codemirror_mode": {
    "name": "ipython",
    "version": 3
   },
   "file_extension": ".py",
   "mimetype": "text/x-python",
   "name": "python",
   "nbconvert_exporter": "python",
   "pygments_lexer": "ipython3",
   "version": "3.6.4"
  }
 },
 "nbformat": 4,
 "nbformat_minor": 2
}
